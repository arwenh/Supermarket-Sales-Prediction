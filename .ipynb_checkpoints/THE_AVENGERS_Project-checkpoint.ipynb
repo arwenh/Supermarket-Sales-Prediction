{
 "cells": [
  {
   "cell_type": "markdown",
   "metadata": {},
   "source": [
    "## THE AVENGERS x PRIME SUPERMARKET PROJECT\n",
    "\n",
    "In 2017, Prime Supermarket had about 10 stores in Singapore, and the company was thinking about expanding stores around Singapore. Our team decided to analyse data on the details of transactions in Prime Supermarket that year, `to decide on how we should expand` - what factors to take note of during expansion."
   ]
  },
  {
   "cell_type": "code",
   "execution_count": 88,
   "metadata": {},
   "outputs": [],
   "source": [
    "import pandas as pd\n",
    "import numpy as np\n",
    "import matplotlib.pyplot as plt\n",
    "import statsmodels.formula.api as smf"
   ]
  },
  {
   "cell_type": "markdown",
   "metadata": {},
   "source": [
    "# 1. Data Cleaning & Preparation\n",
    "We first read the main data of Prime Supermarket in Singapore into a dataframe. "
   ]
  },
  {
   "cell_type": "code",
   "execution_count": 89,
   "metadata": {},
   "outputs": [
    {
     "data": {
      "text/html": [
       "<div>\n",
       "<style scoped>\n",
       "    .dataframe tbody tr th:only-of-type {\n",
       "        vertical-align: middle;\n",
       "    }\n",
       "\n",
       "    .dataframe tbody tr th {\n",
       "        vertical-align: top;\n",
       "    }\n",
       "\n",
       "    .dataframe thead th {\n",
       "        text-align: right;\n",
       "    }\n",
       "</style>\n",
       "<table border=\"1\" class=\"dataframe\">\n",
       "  <thead>\n",
       "    <tr style=\"text-align: right;\">\n",
       "      <th></th>\n",
       "      <th>Item_Identifier</th>\n",
       "      <th>Item_Weight</th>\n",
       "      <th>Item_Fat_Content</th>\n",
       "      <th>Item_Visibility</th>\n",
       "      <th>Item_Type</th>\n",
       "      <th>Item_MRP</th>\n",
       "      <th>Outlet_Identifier</th>\n",
       "      <th>Outlet_Establishment_Year</th>\n",
       "      <th>Outlet_Size</th>\n",
       "      <th>Outlet_Location_Type</th>\n",
       "      <th>Outlet_Type</th>\n",
       "      <th>Item_Outlet_Sales</th>\n",
       "    </tr>\n",
       "  </thead>\n",
       "  <tbody>\n",
       "    <tr>\n",
       "      <th>0</th>\n",
       "      <td>FDA15</td>\n",
       "      <td>9.30</td>\n",
       "      <td>Low Fat</td>\n",
       "      <td>0.016047</td>\n",
       "      <td>Dairy</td>\n",
       "      <td>249.8092</td>\n",
       "      <td>OUT049</td>\n",
       "      <td>1999</td>\n",
       "      <td>Medium</td>\n",
       "      <td>Tier 1</td>\n",
       "      <td>Supermarket Type1</td>\n",
       "      <td>3735.1380</td>\n",
       "    </tr>\n",
       "    <tr>\n",
       "      <th>1</th>\n",
       "      <td>DRC01</td>\n",
       "      <td>5.92</td>\n",
       "      <td>Regular</td>\n",
       "      <td>0.019278</td>\n",
       "      <td>Soft Drinks</td>\n",
       "      <td>48.2692</td>\n",
       "      <td>OUT018</td>\n",
       "      <td>2009</td>\n",
       "      <td>Medium</td>\n",
       "      <td>Tier 3</td>\n",
       "      <td>Supermarket Type2</td>\n",
       "      <td>443.4228</td>\n",
       "    </tr>\n",
       "    <tr>\n",
       "      <th>2</th>\n",
       "      <td>FDN15</td>\n",
       "      <td>17.50</td>\n",
       "      <td>Low Fat</td>\n",
       "      <td>0.016760</td>\n",
       "      <td>Meat</td>\n",
       "      <td>141.6180</td>\n",
       "      <td>OUT049</td>\n",
       "      <td>1999</td>\n",
       "      <td>Medium</td>\n",
       "      <td>Tier 1</td>\n",
       "      <td>Supermarket Type1</td>\n",
       "      <td>2097.2700</td>\n",
       "    </tr>\n",
       "    <tr>\n",
       "      <th>3</th>\n",
       "      <td>FDX07</td>\n",
       "      <td>19.20</td>\n",
       "      <td>Regular</td>\n",
       "      <td>0.000000</td>\n",
       "      <td>Fruits and Vegetables</td>\n",
       "      <td>182.0950</td>\n",
       "      <td>OUT010</td>\n",
       "      <td>1998</td>\n",
       "      <td>NaN</td>\n",
       "      <td>Tier 3</td>\n",
       "      <td>Grocery Store</td>\n",
       "      <td>732.3800</td>\n",
       "    </tr>\n",
       "    <tr>\n",
       "      <th>4</th>\n",
       "      <td>NCD19</td>\n",
       "      <td>8.93</td>\n",
       "      <td>Low Fat</td>\n",
       "      <td>0.000000</td>\n",
       "      <td>Household</td>\n",
       "      <td>53.8614</td>\n",
       "      <td>OUT013</td>\n",
       "      <td>1987</td>\n",
       "      <td>High</td>\n",
       "      <td>Tier 3</td>\n",
       "      <td>Supermarket Type1</td>\n",
       "      <td>994.7052</td>\n",
       "    </tr>\n",
       "  </tbody>\n",
       "</table>\n",
       "</div>"
      ],
      "text/plain": [
       "  Item_Identifier  Item_Weight Item_Fat_Content  Item_Visibility  \\\n",
       "0           FDA15         9.30          Low Fat         0.016047   \n",
       "1           DRC01         5.92          Regular         0.019278   \n",
       "2           FDN15        17.50          Low Fat         0.016760   \n",
       "3           FDX07        19.20          Regular         0.000000   \n",
       "4           NCD19         8.93          Low Fat         0.000000   \n",
       "\n",
       "               Item_Type  Item_MRP Outlet_Identifier  \\\n",
       "0                  Dairy  249.8092            OUT049   \n",
       "1            Soft Drinks   48.2692            OUT018   \n",
       "2                   Meat  141.6180            OUT049   \n",
       "3  Fruits and Vegetables  182.0950            OUT010   \n",
       "4              Household   53.8614            OUT013   \n",
       "\n",
       "   Outlet_Establishment_Year Outlet_Size Outlet_Location_Type  \\\n",
       "0                       1999      Medium               Tier 1   \n",
       "1                       2009      Medium               Tier 3   \n",
       "2                       1999      Medium               Tier 1   \n",
       "3                       1998         NaN               Tier 3   \n",
       "4                       1987        High               Tier 3   \n",
       "\n",
       "         Outlet_Type  Item_Outlet_Sales  \n",
       "0  Supermarket Type1          3735.1380  \n",
       "1  Supermarket Type2           443.4228  \n",
       "2  Supermarket Type1          2097.2700  \n",
       "3      Grocery Store           732.3800  \n",
       "4  Supermarket Type1           994.7052  "
      ]
     },
     "execution_count": 89,
     "metadata": {},
     "output_type": "execute_result"
    }
   ],
   "source": [
    "df_s = pd.read_csv('supermarket.csv')\n",
    "df_s.head()"
   ]
  },
  {
   "cell_type": "markdown",
   "metadata": {},
   "source": [
    "We see that although there are many columns to this dataset, these variables can be briefly broken down into two categories. 1, Product Attributes, and 2, Outlet Attributes. Using this dataset, we will attempt to understand which attributes play a key role in increasing sales. The last column of the dataframe, Item Outlet Sales, will be the outcome variable which we will be trying to predict."
   ]
  },
  {
   "cell_type": "markdown",
   "metadata": {},
   "source": [
    "The first thing that we will do, is to check for the type of each column in the dataframe. "
   ]
  },
  {
   "cell_type": "code",
   "execution_count": 90,
   "metadata": {},
   "outputs": [
    {
     "name": "stdout",
     "output_type": "stream",
     "text": [
      "<class 'pandas.core.frame.DataFrame'>\n",
      "RangeIndex: 8523 entries, 0 to 8522\n",
      "Data columns (total 12 columns):\n",
      "Item_Identifier              8523 non-null object\n",
      "Item_Weight                  8219 non-null float64\n",
      "Item_Fat_Content             8523 non-null object\n",
      "Item_Visibility              8523 non-null float64\n",
      "Item_Type                    8523 non-null object\n",
      "Item_MRP                     8523 non-null float64\n",
      "Outlet_Identifier            8523 non-null object\n",
      "Outlet_Establishment_Year    8523 non-null int64\n",
      "Outlet_Size                  6113 non-null object\n",
      "Outlet_Location_Type         8523 non-null object\n",
      "Outlet_Type                  8523 non-null object\n",
      "Item_Outlet_Sales            8523 non-null float64\n",
      "dtypes: float64(4), int64(1), object(7)\n",
      "memory usage: 799.1+ KB\n",
      "None\n"
     ]
    }
   ],
   "source": [
    "print(df_s.info())"
   ]
  },
  {
   "cell_type": "markdown",
   "metadata": {},
   "source": [
    "Next, we check for null values in the dataframe. "
   ]
  },
  {
   "cell_type": "code",
   "execution_count": 91,
   "metadata": {},
   "outputs": [
    {
     "name": "stdout",
     "output_type": "stream",
     "text": [
      "Item_Identifier                 0\n",
      "Item_Weight                   304\n",
      "Item_Fat_Content                0\n",
      "Item_Visibility                 0\n",
      "Item_Type                       0\n",
      "Item_MRP                        0\n",
      "Outlet_Identifier               0\n",
      "Outlet_Establishment_Year       0\n",
      "Outlet_Size                  2410\n",
      "Outlet_Location_Type            0\n",
      "Outlet_Type                     0\n",
      "Item_Outlet_Sales               0\n",
      "dtype: int64\n"
     ]
    }
   ],
   "source": [
    "print(df_s.isnull().sum())"
   ]
  },
  {
   "cell_type": "markdown",
   "metadata": {},
   "source": [
    "We see that there are only 2 columns with null values, item weight and outlet size. Next, we will use the describe method to look through the basic statistics of the dataset."
   ]
  },
  {
   "cell_type": "code",
   "execution_count": 92,
   "metadata": {},
   "outputs": [
    {
     "data": {
      "text/html": [
       "<div>\n",
       "<style scoped>\n",
       "    .dataframe tbody tr th:only-of-type {\n",
       "        vertical-align: middle;\n",
       "    }\n",
       "\n",
       "    .dataframe tbody tr th {\n",
       "        vertical-align: top;\n",
       "    }\n",
       "\n",
       "    .dataframe thead th {\n",
       "        text-align: right;\n",
       "    }\n",
       "</style>\n",
       "<table border=\"1\" class=\"dataframe\">\n",
       "  <thead>\n",
       "    <tr style=\"text-align: right;\">\n",
       "      <th></th>\n",
       "      <th>Item_Weight</th>\n",
       "      <th>Item_Visibility</th>\n",
       "      <th>Item_MRP</th>\n",
       "      <th>Outlet_Establishment_Year</th>\n",
       "      <th>Item_Outlet_Sales</th>\n",
       "    </tr>\n",
       "  </thead>\n",
       "  <tbody>\n",
       "    <tr>\n",
       "      <th>count</th>\n",
       "      <td>8219.000000</td>\n",
       "      <td>8523.000000</td>\n",
       "      <td>8523.000000</td>\n",
       "      <td>8523.000000</td>\n",
       "      <td>8523.000000</td>\n",
       "    </tr>\n",
       "    <tr>\n",
       "      <th>mean</th>\n",
       "      <td>12.865711</td>\n",
       "      <td>0.066132</td>\n",
       "      <td>140.992782</td>\n",
       "      <td>1997.831867</td>\n",
       "      <td>2181.288914</td>\n",
       "    </tr>\n",
       "    <tr>\n",
       "      <th>std</th>\n",
       "      <td>4.644013</td>\n",
       "      <td>0.051598</td>\n",
       "      <td>62.275067</td>\n",
       "      <td>8.371760</td>\n",
       "      <td>1706.499616</td>\n",
       "    </tr>\n",
       "    <tr>\n",
       "      <th>min</th>\n",
       "      <td>4.555000</td>\n",
       "      <td>0.000000</td>\n",
       "      <td>31.290000</td>\n",
       "      <td>1985.000000</td>\n",
       "      <td>33.290000</td>\n",
       "    </tr>\n",
       "    <tr>\n",
       "      <th>25%</th>\n",
       "      <td>8.785000</td>\n",
       "      <td>0.026989</td>\n",
       "      <td>93.826500</td>\n",
       "      <td>1987.000000</td>\n",
       "      <td>834.247400</td>\n",
       "    </tr>\n",
       "    <tr>\n",
       "      <th>50%</th>\n",
       "      <td>12.600000</td>\n",
       "      <td>0.053931</td>\n",
       "      <td>143.012800</td>\n",
       "      <td>1999.000000</td>\n",
       "      <td>1794.331000</td>\n",
       "    </tr>\n",
       "    <tr>\n",
       "      <th>75%</th>\n",
       "      <td>16.850000</td>\n",
       "      <td>0.094585</td>\n",
       "      <td>185.643700</td>\n",
       "      <td>2004.000000</td>\n",
       "      <td>3101.296400</td>\n",
       "    </tr>\n",
       "    <tr>\n",
       "      <th>max</th>\n",
       "      <td>21.350000</td>\n",
       "      <td>0.328391</td>\n",
       "      <td>266.888400</td>\n",
       "      <td>2009.000000</td>\n",
       "      <td>13086.964800</td>\n",
       "    </tr>\n",
       "  </tbody>\n",
       "</table>\n",
       "</div>"
      ],
      "text/plain": [
       "       Item_Weight  Item_Visibility     Item_MRP  Outlet_Establishment_Year  \\\n",
       "count  8219.000000      8523.000000  8523.000000                8523.000000   \n",
       "mean     12.865711         0.066132   140.992782                1997.831867   \n",
       "std       4.644013         0.051598    62.275067                   8.371760   \n",
       "min       4.555000         0.000000    31.290000                1985.000000   \n",
       "25%       8.785000         0.026989    93.826500                1987.000000   \n",
       "50%      12.600000         0.053931   143.012800                1999.000000   \n",
       "75%      16.850000         0.094585   185.643700                2004.000000   \n",
       "max      21.350000         0.328391   266.888400                2009.000000   \n",
       "\n",
       "       Item_Outlet_Sales  \n",
       "count        8523.000000  \n",
       "mean         2181.288914  \n",
       "std          1706.499616  \n",
       "min            33.290000  \n",
       "25%           834.247400  \n",
       "50%          1794.331000  \n",
       "75%          3101.296400  \n",
       "max         13086.964800  "
      ]
     },
     "execution_count": 92,
     "metadata": {},
     "output_type": "execute_result"
    }
   ],
   "source": [
    "df_s.describe()"
   ]
  },
  {
   "cell_type": "markdown",
   "metadata": {},
   "source": [
    "Looking at these 5 columns, we can make several assumptions about the data.\n",
    "\n",
    "Firstly, it is likely that the item weight represents the weight of the items in grams, using a float value. \n",
    "\n",
    "Next, the item visibility is likely to be a percentage number, since the values are all lower than 1. A possible data anomaly is that the minimum value for the item visibility is 0. This is probably an error of the data, since it is not possible for the data to be 0% visible (this means the item is invisible). Hence, we will replace these 0s with the average visibility of the product.\n",
    "\n",
    "The item MRP represents the item maximum retail price, and is represented as a float value, just like the last column, item outlet sales.\n",
    "\n",
    "Lastly, the outlet establishment year represents the year that the outlets are set up, with 1985 being the earliest, till 2009 the latest. To make our analysis easier, we will also be creating a new column called Outlet_Years to track the number of years each store has been operating for.\n",
    "\n"
   ]
  },
  {
   "cell_type": "code",
   "execution_count": 93,
   "metadata": {},
   "outputs": [
    {
     "name": "stdout",
     "output_type": "stream",
     "text": [
      "Item_Identifier                 0\n",
      "Item_Weight                   304\n",
      "Item_Fat_Content                0\n",
      "Item_Visibility                 0\n",
      "Item_Type                       0\n",
      "Item_MRP                        0\n",
      "Outlet_Identifier               0\n",
      "Outlet_Establishment_Year       0\n",
      "Outlet_Size                  2410\n",
      "Outlet_Location_Type            0\n",
      "Outlet_Type                     0\n",
      "Item_Outlet_Sales               0\n",
      "Outlet_Years                    0\n",
      "dtype: int64\n"
     ]
    },
    {
     "data": {
      "text/html": [
       "<div>\n",
       "<style scoped>\n",
       "    .dataframe tbody tr th:only-of-type {\n",
       "        vertical-align: middle;\n",
       "    }\n",
       "\n",
       "    .dataframe tbody tr th {\n",
       "        vertical-align: top;\n",
       "    }\n",
       "\n",
       "    .dataframe thead th {\n",
       "        text-align: right;\n",
       "    }\n",
       "</style>\n",
       "<table border=\"1\" class=\"dataframe\">\n",
       "  <thead>\n",
       "    <tr style=\"text-align: right;\">\n",
       "      <th></th>\n",
       "      <th>Item_Weight</th>\n",
       "      <th>Item_Visibility</th>\n",
       "      <th>Item_MRP</th>\n",
       "      <th>Outlet_Establishment_Year</th>\n",
       "      <th>Item_Outlet_Sales</th>\n",
       "      <th>Outlet_Years</th>\n",
       "    </tr>\n",
       "  </thead>\n",
       "  <tbody>\n",
       "    <tr>\n",
       "      <th>count</th>\n",
       "      <td>8219.000000</td>\n",
       "      <td>8523.000000</td>\n",
       "      <td>8523.000000</td>\n",
       "      <td>8523.000000</td>\n",
       "      <td>8523.000000</td>\n",
       "      <td>8523.000000</td>\n",
       "    </tr>\n",
       "    <tr>\n",
       "      <th>mean</th>\n",
       "      <td>12.865711</td>\n",
       "      <td>0.070749</td>\n",
       "      <td>140.992782</td>\n",
       "      <td>1997.831867</td>\n",
       "      <td>2181.288914</td>\n",
       "      <td>19.168133</td>\n",
       "    </tr>\n",
       "    <tr>\n",
       "      <th>std</th>\n",
       "      <td>4.644013</td>\n",
       "      <td>0.050313</td>\n",
       "      <td>62.275067</td>\n",
       "      <td>8.371760</td>\n",
       "      <td>1706.499616</td>\n",
       "      <td>8.371760</td>\n",
       "    </tr>\n",
       "    <tr>\n",
       "      <th>min</th>\n",
       "      <td>4.555000</td>\n",
       "      <td>0.003575</td>\n",
       "      <td>31.290000</td>\n",
       "      <td>1985.000000</td>\n",
       "      <td>33.290000</td>\n",
       "      <td>8.000000</td>\n",
       "    </tr>\n",
       "    <tr>\n",
       "      <th>25%</th>\n",
       "      <td>8.785000</td>\n",
       "      <td>0.031395</td>\n",
       "      <td>93.826500</td>\n",
       "      <td>1987.000000</td>\n",
       "      <td>834.247400</td>\n",
       "      <td>13.000000</td>\n",
       "    </tr>\n",
       "    <tr>\n",
       "      <th>50%</th>\n",
       "      <td>12.600000</td>\n",
       "      <td>0.058100</td>\n",
       "      <td>143.012800</td>\n",
       "      <td>1999.000000</td>\n",
       "      <td>1794.331000</td>\n",
       "      <td>18.000000</td>\n",
       "    </tr>\n",
       "    <tr>\n",
       "      <th>75%</th>\n",
       "      <td>16.850000</td>\n",
       "      <td>0.098867</td>\n",
       "      <td>185.643700</td>\n",
       "      <td>2004.000000</td>\n",
       "      <td>3101.296400</td>\n",
       "      <td>30.000000</td>\n",
       "    </tr>\n",
       "    <tr>\n",
       "      <th>max</th>\n",
       "      <td>21.350000</td>\n",
       "      <td>0.328391</td>\n",
       "      <td>266.888400</td>\n",
       "      <td>2009.000000</td>\n",
       "      <td>13086.964800</td>\n",
       "      <td>32.000000</td>\n",
       "    </tr>\n",
       "  </tbody>\n",
       "</table>\n",
       "</div>"
      ],
      "text/plain": [
       "       Item_Weight  Item_Visibility     Item_MRP  Outlet_Establishment_Year  \\\n",
       "count  8219.000000      8523.000000  8523.000000                8523.000000   \n",
       "mean     12.865711         0.070749   140.992782                1997.831867   \n",
       "std       4.644013         0.050313    62.275067                   8.371760   \n",
       "min       4.555000         0.003575    31.290000                1985.000000   \n",
       "25%       8.785000         0.031395    93.826500                1987.000000   \n",
       "50%      12.600000         0.058100   143.012800                1999.000000   \n",
       "75%      16.850000         0.098867   185.643700                2004.000000   \n",
       "max      21.350000         0.328391   266.888400                2009.000000   \n",
       "\n",
       "       Item_Outlet_Sales  Outlet_Years  \n",
       "count        8523.000000   8523.000000  \n",
       "mean         2181.288914     19.168133  \n",
       "std          1706.499616      8.371760  \n",
       "min            33.290000      8.000000  \n",
       "25%           834.247400     13.000000  \n",
       "50%          1794.331000     18.000000  \n",
       "75%          3101.296400     30.000000  \n",
       "max         13086.964800     32.000000  "
      ]
     },
     "execution_count": 93,
     "metadata": {},
     "output_type": "execute_result"
    }
   ],
   "source": [
    "df_s[\"Item_Visibility\"] = df_s[\"Item_Visibility\"].replace(0, np.nan)\n",
    "df_s[\"Item_Visibility\"] = df_s.groupby(\"Item_Identifier\")[\"Item_Visibility\"].transform(lambda x: x.fillna(x.mean()))\n",
    "\n",
    "# We use 2017 since the data obtained were data from 2017.\n",
    "\n",
    "df_s[\"Outlet_Years\"] = 2017 - df_s[\"Outlet_Establishment_Year\"]\n",
    "\n",
    "print(df_s.isna().sum())\n",
    "df_s.describe()"
   ]
  },
  {
   "cell_type": "markdown",
   "metadata": {},
   "source": [
    "We see that there are no longer items with item visibility of 0, and the operating years for the outlets range from 8 to 32 years. Now, since describe only provides us with statistics for the numerical values, we shall examine the categorical values through the use of the unique() function. "
   ]
  },
  {
   "cell_type": "code",
   "execution_count": 94,
   "metadata": {},
   "outputs": [
    {
     "data": {
      "text/plain": [
       "Item_Identifier              1559\n",
       "Item_Weight                   416\n",
       "Item_Fat_Content                5\n",
       "Item_Visibility              8322\n",
       "Item_Type                      16\n",
       "Item_MRP                     5938\n",
       "Outlet_Identifier              10\n",
       "Outlet_Establishment_Year       9\n",
       "Outlet_Size                     4\n",
       "Outlet_Location_Type            3\n",
       "Outlet_Type                     4\n",
       "Item_Outlet_Sales            3493\n",
       "Outlet_Years                    9\n",
       "dtype: int64"
      ]
     },
     "execution_count": 94,
     "metadata": {},
     "output_type": "execute_result"
    }
   ],
   "source": [
    "df_s.apply(lambda x: len(x.unique()))"
   ]
  },
  {
   "cell_type": "markdown",
   "metadata": {},
   "source": [
    "Firstly, focusing on the categorical product attributes, there are 1559 unique products, and 16 unique item types. There are also 5 categories of item fat content.\n",
    "\n",
    "Next, there are 10 unique outlet identifiers, with 4 different sizes and types, as well as 3 location types."
   ]
  },
  {
   "cell_type": "markdown",
   "metadata": {},
   "source": [
    "Now, let us read the list of supermarket licenses (obtained from data.gov.sg) to find out how many unique supermarket franchises there are in Singapore in total."
   ]
  },
  {
   "cell_type": "code",
   "execution_count": 95,
   "metadata": {},
   "outputs": [
    {
     "data": {
      "text/plain": [
       "array(['COLD STORAGE SINGAPORE (1983) PTE LTD',\n",
       "       'U STARS SUPERMARKET PTE. LTD.', 'NTUC Fairprice Co-operative Ltd',\n",
       "       'SHENG SIONG SUPERMARKET PTE LTD', 'D-RON INVESTMENTS PTE. LTD.',\n",
       "       'GW TRADER PTE. LTD.', 'HONG AIK PTE LTD',\n",
       "       'LABIBA ENTERPRISE PTE. LTD.', 'ANG MO SUPERMARKET PTE LTD',\n",
       "       'G8 MART PTE. LTD.', 'TAN SUAN GUAY', 'L M MEAT PTE. LTD',\n",
       "       'THE FISHWIVES PTE. LTD.', 'THE BUTCHER (SINGAPORE) PTE. LTD.',\n",
       "       'CULINA PTE LTD', \"HUBER'S PTE. LTD.\",\n",
       "       'FOUR SEASONS ORGANIC MARKET PTE. LTD.', 'FASSLER GOURMET PTE LTD',\n",
       "       \"THE BUTCHER'S DOG PTE. LTD.\", 'SECRETS FINE FOOD PTE. LTD.',\n",
       "       'FOODIE MARKET PLACE PTE LTD',\n",
       "       'FOUR SEASONS GOURMET MARKET PTE. LTD.', 'AP HOUSE PTE. LTD.',\n",
       "       'LOTTE MART PTE. LTD.', 'AL MARCHE PTE LTD', 'HONG HENG SENG',\n",
       "       'WAN SIEW YOONG', 'SONG FISH DEALER PTE LTD',\n",
       "       'EPICUREAN CONCEPTS MARINA SQUARE PTE. LTD.',\n",
       "       'BOZZ INTERNATIONAL PTE. LTD.', 'LOH NYEN YIU',\n",
       "       'DEARN KAPAG PTE. LTD.', 'PARDESHI PTE. LTD.',\n",
       "       'JEWISH WELFARE BOARD, SINGAPORE', 'MAHOTA FOOD PTE. LTD.',\n",
       "       'MUSTAFA HOLDINGS PTE LTD', 'B & S MINI MART PTE. LTD.',\n",
       "       'PRB TRADING PTE. LTD.', 'YEO HOCK HENG', 'MONAKO ASIA PTE. LTD.',\n",
       "       'I-TEC SUPERMART PTE LTD', 'HAO MART PTE. LTD.',\n",
       "       'AMISTA INTERNATIONAL PTE. LTD.',\n",
       "       'SEMPER FIDELIS FINE FOODS PRIVATE LIMITED',\n",
       "       'SWISS BUTCHERY PTE LTD', 'SUPERNATURE PTE LTD',\n",
       "       'ISETAN (SINGAPORE) LIMITED?', 'MEIDI-YA SINGAPORE CO (PTE) LTD',\n",
       "       'LIN POH LING', 'RAW MARKET PTE. LTD.', 'AZMI SHOP PTE. LTD.',\n",
       "       'LI LI CHENG SUPERMARKET (PUNGGOL) PTE. LTD.',\n",
       "       'GOLDEN BAMBOO BROS SUPERMART PTE LTD', 'YES SUPERMARKET PTE LTD',\n",
       "       'SHAHUL HAMEED S/O ABDUSALAM', 'MELON SUPERMARKET PTE LTD',\n",
       "       'MUMTAZ ENTERPRISE PTE LTD', 'FRIENDS HYPERMART PTE. LTD.',\n",
       "       'AZ SUPERMART PTE. LTD.', 'CHUA & NG PTE. LTD.', 'TAN CHUAN BOON',\n",
       "       'LIM KING CHEW', 'SFERM PTE. LTD.',\n",
       "       'THONG CHEW FOOD INDUSTRIES PTE LTD',\n",
       "       'MUMTAJ BEGAM D/O MOHAMED YUSOOF', 'AMS SUPER MART PTE LTD',\n",
       "       'LAURELS FOODS SUPPLIERS PTE LTD', 'THNG SAIK MONG',\n",
       "       'MEAT THE BUTCHER PTE. LTD.', 'YEO KENG GUAN',\n",
       "       'BISMILLAH MINIMART PTE. LTD.', 'HH SUNDRY SHOP PTE. LTD.',\n",
       "       \"GOWRI'S GLOBAL MARKETING PTE. LTD.\", 'SADIA MINIMART PTE LTD',\n",
       "       '7SEVEN PTE. LTD.', 'VENKATESH DEEPA ( VIDEKS GROCERS )',\n",
       "       'PHAN NEE TRADING LLP', 'FORTUNE SUPERMARKET PTE. LTD.',\n",
       "       'MM SUNDRY SHOP PTE.LTD.', 'DE ESPERTO MINIMART PTE. LTD.',\n",
       "       'GAVARASANA SURESH KUMAR', 'V SURESH KUMAR',\n",
       "       'PRIME SUPERMARKET (1996) PTE LTD', 'TAN KWEE ENG',\n",
       "       'CENTURY GLOBAL PTE. LTD.',\n",
       "       'SWISS BUTCHERY (2013) PRIVATE LIMITED',\n",
       "       'ROSWELL ENTERPRISE PTE LTD', 'NG LIAN TEE',\n",
       "       'ALTERNATIVE SELECTION PTE. LTD.', 'AJMAL TRADE MART PTE. LTD.',\n",
       "       'BALASUBRAMANIYAN KANNADASAN',\n",
       "       'SADIA SUPERMARKET & TRADING (S) PTE. LTD.',\n",
       "       'KAI SOON SUPERMARKET PTE. LTD.',\n",
       "       'PHAN NEE INVESTMENTS (S) PTE LTD', 'PRIME SUPERMARKET LIMITED?',\n",
       "       'Teo Bobby', 'EN FROZEN PTE LTD',\n",
       "       'GOLDEN TICKET SINGAPORE PTE. LTD.',\n",
       "       'CP MANAGEMENT SERVICES PRIVATE LIMITED', 'THNG CHYE BOON',\n",
       "       'TANESEI RETAILING PTE. LTD.', 'ABEDIN TRADING PTE. LTD.',\n",
       "       'SIVAMANI MINIMART PTE LTD', 'SARATHI STORES PTE LTD',\n",
       "       'TAN PAK NANG', 'KPM MINI MART PTE LTD', 'CHEE MIN KUAN, SIMON',\n",
       "       'ANGLISS SINGAPORE PTE LTD', 'SIM CHIANG LEE',\n",
       "       'ZAC MEAT & POULTRY PTE LTD', 'CHO YONG BEOM',\n",
       "       'CHENNAI TRADING & SUPERMART PTE. LTD.',\n",
       "       'TUAS SOUTH MINIMART PTE. LTD.', 'TANESEI TRADING PTE. LTD.',\n",
       "       'LI LI CHENG SUPERMARKET PTE. LTD.', 'BFN FOODS PTE. LTD.',\n",
       "       'VINAYAK TRADERS PTE. LTD.', 'KINGS SUPERMARKET PTE. LTD.',\n",
       "       'AJMAL TRADING GROUP PTE. LTD.', 'PHANG NEE ENTERPRISE PTE. LTD.',\n",
       "       'HAJI TRADERS PTE. LTD', 'ARCHANA PROVISION STORES PTE. LTD',\n",
       "       'KADER HASNA MARICAN', \"GURU'S MARKETING PTE. LTD.\",\n",
       "       'ARCHANA SUPERMARKET PTE. LTD.', 'KINGSMART PTE. LTD.',\n",
       "       'SHAFEN SUPERMARKET & TRADING (S) PTE. LTD.',\n",
       "       'AJMAL SUPER MART PTE. LTD.', 'NAWAS GLOBAL PTE. LTD.',\n",
       "       'LAI LAI SUPERMART PTE. LTD.', \"SRI SURIYA'S MARKETING PTE. LTD.\",\n",
       "       'SHANMUGHA ENTERPRISES PTE. LTD', 'J.I.C. ENTERPRISES PTE. LTD.',\n",
       "       'NPS IMPEX PTE. LTD', 'TU HEE TRADING PTE. LTD.',\n",
       "       'JAYTARRANI PTE. LTD.', 'NG TOH TET',\n",
       "       'BIG BOX SINGAPORE PTE. LTD.', 'ONE EIGHT SHOP PTE. LTD.',\n",
       "       'TAY CHONG BENG', 'T S J INDUSTRIAL (S) PTE. LTD.',\n",
       "       'WONS BUTCHERY PTE. LTD.', 'BALU MINIMART PTE. LTD',\n",
       "       'OH BENG GUAN', 'ANG KEN CHUA', 'GINZA FARM SINGAPORE PTE. LTD.'],\n",
       "      dtype=object)"
      ]
     },
     "execution_count": 95,
     "metadata": {},
     "output_type": "execute_result"
    }
   ],
   "source": [
    "df_list = pd.read_csv('list-of-supermarket-licences.csv')\n",
    "df_list['licensee_name'].unique()"
   ]
  },
  {
   "cell_type": "code",
   "execution_count": 96,
   "metadata": {},
   "outputs": [
    {
     "data": {
      "text/plain": [
       "10"
      ]
     },
     "execution_count": 96,
     "metadata": {},
     "output_type": "execute_result"
    }
   ],
   "source": [
    "df_list['licensee_name'].str.count(\"PRIME\").sum()"
   ]
  },
  {
   "cell_type": "markdown",
   "metadata": {},
   "source": [
    "We find that there are 10 Prime Supermarkets in this list of supermarket licenses. Which matches the number of outlet identifies in the primary supermarket dataset that we have. Since we previously also established that there are no null values in the outlet identifier column, we do not need to do further changes to this column of data.\n",
    "\n",
    "Returning back to our analysis of the categorical variables, let us further examine the types of categorical variables present in the data, for each column (excluding product ID & outlet identifier since these do not provide information that can add value to our analysis)."
   ]
  },
  {
   "cell_type": "code",
   "execution_count": 97,
   "metadata": {},
   "outputs": [
    {
     "name": "stdout",
     "output_type": "stream",
     "text": [
      "Item_Identifier               object\n",
      "Item_Weight                  float64\n",
      "Item_Fat_Content              object\n",
      "Item_Visibility              float64\n",
      "Item_Type                     object\n",
      "Item_MRP                     float64\n",
      "Outlet_Identifier             object\n",
      "Outlet_Establishment_Year      int64\n",
      "Outlet_Size                   object\n",
      "Outlet_Location_Type          object\n",
      "Outlet_Type                   object\n",
      "Item_Outlet_Sales            float64\n",
      "Outlet_Years                   int64\n",
      "dtype: object\n",
      "<class 'pandas.core.series.Series'>\n"
     ]
    }
   ],
   "source": [
    "print(df_s.dtypes)\n",
    "print(type(df_s.dtypes))"
   ]
  },
  {
   "cell_type": "code",
   "execution_count": 98,
   "metadata": {},
   "outputs": [
    {
     "name": "stdout",
     "output_type": "stream",
     "text": [
      "Low Fat    5089\n",
      "Regular    2889\n",
      "LF          316\n",
      "reg         117\n",
      "low fat     112\n",
      "Name: Item_Fat_Content, dtype: int64\n",
      "\n",
      "\n",
      "Fruits and Vegetables    1232\n",
      "Snack Foods              1200\n",
      "Household                 910\n",
      "Frozen Foods              856\n",
      "Dairy                     682\n",
      "Canned                    649\n",
      "Baking Goods              648\n",
      "Health and Hygiene        520\n",
      "Soft Drinks               445\n",
      "Meat                      425\n",
      "Breads                    251\n",
      "Hard Drinks               214\n",
      "Others                    169\n",
      "Starchy Foods             148\n",
      "Breakfast                 110\n",
      "Seafood                    64\n",
      "Name: Item_Type, dtype: int64\n",
      "\n",
      "\n",
      "Medium    2793\n",
      "Small     2388\n",
      "High       932\n",
      "Name: Outlet_Size, dtype: int64\n",
      "\n",
      "\n",
      "Tier 3    3350\n",
      "Tier 2    2785\n",
      "Tier 1    2388\n",
      "Name: Outlet_Location_Type, dtype: int64\n",
      "\n",
      "\n",
      "Supermarket Type1    5577\n",
      "Grocery Store        1083\n",
      "Supermarket Type3     935\n",
      "Supermarket Type2     928\n",
      "Name: Outlet_Type, dtype: int64\n",
      "\n",
      "\n"
     ]
    }
   ],
   "source": [
    "categories = []\n",
    "for i in df_s.dtypes.index:\n",
    "    if df_s.dtypes[i] == \"object\":\n",
    "        if i != \"Item_Identifier\" and i != \"Outlet_Identifier\":\n",
    "            categories.append(i)\n",
    "            \n",
    "for cat in categories:\n",
    "    print(df_s[cat].value_counts())\n",
    "    print(\"\\n\")"
   ]
  },
  {
   "cell_type": "markdown",
   "metadata": {},
   "source": [
    "From this further analysis, we realise that there was a wrong assumption made earlier. There are probably only 2 types of fat content, as opposed to the previously 5 that was hypothesized. \"LF\" and \"low fat\" are clearly referring to \"Low Fat\", and are just miscoded. Also, there are items with \"reg\" fat content, which refers to \"Regular\" fat content items.\n",
    "\n",
    "Next, we also see that the distribution of item types are very wide, with fruits and vegetables having over 1200 appearances, while seafood only appear 64 times in the dataset. \n",
    "\n",
    "Lastly, there appears to be no clear correlation between the outlet types, outlet locations, and outlet sizes as the frequency of the variables are all spread out.\n",
    "\n",
    "Now that we have a rough idea of the data that we are dealing with, let us go back to the null values which we have in this dataset, Item Weights and Outlet Size, and deal with them accordingly.\n",
    "\n",
    "First, we replace the null values of the item weights according to the mean weight of the unique item identifier.\n",
    "\n",
    "Then, we find out for each outlet type, what is the most common outlet size. We decided to use outlet type instead of outlet location simply because we believe that the size of an outlet is more closely related to the type of outlet, rather than the location of the outlet."
   ]
  },
  {
   "cell_type": "code",
   "execution_count": 99,
   "metadata": {
    "scrolled": true
   },
   "outputs": [
    {
     "data": {
      "text/plain": [
       "Item_Identifier              0\n",
       "Item_Weight                  4\n",
       "Item_Fat_Content             0\n",
       "Item_Visibility              0\n",
       "Item_Type                    0\n",
       "Item_MRP                     0\n",
       "Outlet_Identifier            0\n",
       "Outlet_Establishment_Year    0\n",
       "Outlet_Size                  0\n",
       "Outlet_Location_Type         0\n",
       "Outlet_Type                  0\n",
       "Item_Outlet_Sales            0\n",
       "Outlet_Years                 0\n",
       "dtype: int64"
      ]
     },
     "execution_count": 99,
     "metadata": {},
     "output_type": "execute_result"
    }
   ],
   "source": [
    "df_s[\"Item_Weight\"] = df_s.groupby(\"Item_Identifier\")[\"Item_Weight\"].transform(lambda x: x.fillna(x.mean()))\n",
    "\n",
    "\n",
    "cond = df_s.groupby(\"Outlet_Type\")[\"Outlet_Size\"].agg(lambda x:x.value_counts().index[0])\n",
    "cond = cond.to_dict()\n",
    "\n",
    "df_s[\"Outlet_Size\"] = df_s[\"Outlet_Size\"].fillna(df_s[\"Outlet_Type\"].map(cond))\n",
    "df_s.isna().sum()"
   ]
  },
  {
   "cell_type": "markdown",
   "metadata": {},
   "source": [
    "We see that after cleaning the data, we are left with 4 null values in the item weight, and these could be due to corruption of data / anomalies. Hence, we will be dropping these 4 data points before proceeding with further analysis."
   ]
  },
  {
   "cell_type": "code",
   "execution_count": 100,
   "metadata": {},
   "outputs": [
    {
     "data": {
      "text/plain": [
       "Item_Identifier              0\n",
       "Item_Weight                  0\n",
       "Item_Fat_Content             0\n",
       "Item_Visibility              0\n",
       "Item_Type                    0\n",
       "Item_MRP                     0\n",
       "Outlet_Identifier            0\n",
       "Outlet_Establishment_Year    0\n",
       "Outlet_Size                  0\n",
       "Outlet_Location_Type         0\n",
       "Outlet_Type                  0\n",
       "Item_Outlet_Sales            0\n",
       "Outlet_Years                 0\n",
       "dtype: int64"
      ]
     },
     "execution_count": 100,
     "metadata": {},
     "output_type": "execute_result"
    }
   ],
   "source": [
    "df_s = df_s.dropna()\n",
    "df_s.isna().sum()"
   ]
  },
  {
   "cell_type": "markdown",
   "metadata": {},
   "source": [
    "Next, we will recategorise the Fat Content of the products, replacing \"LF\" and \"low fat\" to \"Low Fat\", and \"reg\" to \"Regular\" for a more accurate representation of our data."
   ]
  },
  {
   "cell_type": "code",
   "execution_count": 101,
   "metadata": {},
   "outputs": [
    {
     "data": {
      "text/plain": [
       "Low Fat    5516\n",
       "Regular    3003\n",
       "Name: Item_Fat_Content, dtype: int64"
      ]
     },
     "execution_count": 101,
     "metadata": {},
     "output_type": "execute_result"
    }
   ],
   "source": [
    "df_s[\"Item_Fat_Content\"] = df_s[\"Item_Fat_Content\"].replace({\n",
    "    \"LF\" : \"Low Fat\",\n",
    "    \"low fat\": \"Low Fat\",\n",
    "    \"reg\": \"Regular\"\n",
    "})\n",
    "\n",
    "df_s[\"Item_Fat_Content\"].value_counts()"
   ]
  },
  {
   "cell_type": "code",
   "execution_count": 102,
   "metadata": {},
   "outputs": [
    {
     "data": {
      "text/plain": [
       "16"
      ]
     },
     "execution_count": 102,
     "metadata": {},
     "output_type": "execute_result"
    }
   ],
   "source": [
    "len(df_s[\"Item_Type\"].unique())"
   ]
  },
  {
   "cell_type": "markdown",
   "metadata": {},
   "source": [
    "Next, we shall attempt to see if we can group the item types into smaller groups, as there are currently 16 different item types, which may make comparisons difficult."
   ]
  },
  {
   "cell_type": "code",
   "execution_count": 103,
   "metadata": {},
   "outputs": [
    {
     "data": {
      "text/plain": [
       "FDG33    10\n",
       "FDW13    10\n",
       "FDV60     9\n",
       "DRN47     9\n",
       "FDG09     9\n",
       "NCJ30     9\n",
       "FDV38     9\n",
       "NCQ06     9\n",
       "FDX31     9\n",
       "NCF42     9\n",
       "FDW26     9\n",
       "FDF52     9\n",
       "FDU12     9\n",
       "NCY18     9\n",
       "FDP25     9\n",
       "FDW49     9\n",
       "FDT07     9\n",
       "FDF56     9\n",
       "DRE49     9\n",
       "FDD38     9\n",
       "FDQ40     9\n",
       "NCL31     9\n",
       "NCB18     9\n",
       "NCI54     9\n",
       "FDX04     9\n",
       "FDX20     9\n",
       "FDO19     9\n",
       "FDB17     8\n",
       "NCK53     8\n",
       "FDX58     8\n",
       "         ..\n",
       "DRE01     2\n",
       "FDR03     2\n",
       "FDI36     2\n",
       "FDR57     2\n",
       "FDP15     2\n",
       "FDT33     2\n",
       "FDF38     2\n",
       "FDW58     2\n",
       "NCG19     2\n",
       "FDD48     2\n",
       "FDB47     2\n",
       "FDM38     2\n",
       "NCX53     2\n",
       "DRC24     2\n",
       "FDH22     2\n",
       "DRG25     2\n",
       "FDZ50     2\n",
       "NCV18     2\n",
       "FDA48     2\n",
       "FDM16     2\n",
       "FDB10     2\n",
       "NCS41     2\n",
       "DRI59     2\n",
       "FDE38     2\n",
       "FDW10     2\n",
       "FDY43     1\n",
       "FDO33     1\n",
       "DRF48     1\n",
       "FDC23     1\n",
       "FDT35     1\n",
       "Name: Item_Identifier, Length: 1555, dtype: int64"
      ]
     },
     "execution_count": 103,
     "metadata": {},
     "output_type": "execute_result"
    }
   ],
   "source": [
    "df_s[\"Item_Identifier\"].value_counts()"
   ]
  },
  {
   "cell_type": "markdown",
   "metadata": {},
   "source": [
    "Upon further examination, it can be seen that there are 3 types of item identifiers. Products that have their item identifiers starting with FD, DR, and NC. Looking at the categories of product types, a possible inference our team has made is that FD refers to food, DR refers to drinks, NC refers to non-consumables. "
   ]
  },
  {
   "cell_type": "code",
   "execution_count": 104,
   "metadata": {},
   "outputs": [],
   "source": [
    "def func(row):\n",
    "    if \"FD\" in row[\"Item_Identifier\"]:\n",
    "        val = \"Food\"\n",
    "    elif \"DR\" in row [\"Item_Identifier\"]:\n",
    "        val = \"Drinks\"\n",
    "    else:\n",
    "        val = \"Non_Consumables\"\n",
    "    return val"
   ]
  },
  {
   "cell_type": "code",
   "execution_count": 105,
   "metadata": {},
   "outputs": [
    {
     "data": {
      "text/html": [
       "<div>\n",
       "<style scoped>\n",
       "    .dataframe tbody tr th:only-of-type {\n",
       "        vertical-align: middle;\n",
       "    }\n",
       "\n",
       "    .dataframe tbody tr th {\n",
       "        vertical-align: top;\n",
       "    }\n",
       "\n",
       "    .dataframe thead th {\n",
       "        text-align: right;\n",
       "    }\n",
       "</style>\n",
       "<table border=\"1\" class=\"dataframe\">\n",
       "  <thead>\n",
       "    <tr style=\"text-align: right;\">\n",
       "      <th></th>\n",
       "      <th>Item_Identifier</th>\n",
       "      <th>Item_Weight</th>\n",
       "      <th>Item_Fat_Content</th>\n",
       "      <th>Item_Visibility</th>\n",
       "      <th>Item_Type</th>\n",
       "      <th>Item_MRP</th>\n",
       "      <th>Outlet_Identifier</th>\n",
       "      <th>Outlet_Establishment_Year</th>\n",
       "      <th>Outlet_Size</th>\n",
       "      <th>Outlet_Location_Type</th>\n",
       "      <th>Outlet_Type</th>\n",
       "      <th>Item_Outlet_Sales</th>\n",
       "      <th>Outlet_Years</th>\n",
       "      <th>Item_Combined_Type</th>\n",
       "    </tr>\n",
       "  </thead>\n",
       "  <tbody>\n",
       "    <tr>\n",
       "      <th>0</th>\n",
       "      <td>FDA15</td>\n",
       "      <td>9.30</td>\n",
       "      <td>Low Fat</td>\n",
       "      <td>0.016047</td>\n",
       "      <td>Dairy</td>\n",
       "      <td>249.8092</td>\n",
       "      <td>OUT049</td>\n",
       "      <td>1999</td>\n",
       "      <td>Medium</td>\n",
       "      <td>Tier 1</td>\n",
       "      <td>Supermarket Type1</td>\n",
       "      <td>3735.1380</td>\n",
       "      <td>18</td>\n",
       "      <td>Food</td>\n",
       "    </tr>\n",
       "    <tr>\n",
       "      <th>1</th>\n",
       "      <td>DRC01</td>\n",
       "      <td>5.92</td>\n",
       "      <td>Regular</td>\n",
       "      <td>0.019278</td>\n",
       "      <td>Soft Drinks</td>\n",
       "      <td>48.2692</td>\n",
       "      <td>OUT018</td>\n",
       "      <td>2009</td>\n",
       "      <td>Medium</td>\n",
       "      <td>Tier 3</td>\n",
       "      <td>Supermarket Type2</td>\n",
       "      <td>443.4228</td>\n",
       "      <td>8</td>\n",
       "      <td>Drinks</td>\n",
       "    </tr>\n",
       "    <tr>\n",
       "      <th>2</th>\n",
       "      <td>FDN15</td>\n",
       "      <td>17.50</td>\n",
       "      <td>Low Fat</td>\n",
       "      <td>0.016760</td>\n",
       "      <td>Meat</td>\n",
       "      <td>141.6180</td>\n",
       "      <td>OUT049</td>\n",
       "      <td>1999</td>\n",
       "      <td>Medium</td>\n",
       "      <td>Tier 1</td>\n",
       "      <td>Supermarket Type1</td>\n",
       "      <td>2097.2700</td>\n",
       "      <td>18</td>\n",
       "      <td>Food</td>\n",
       "    </tr>\n",
       "    <tr>\n",
       "      <th>3</th>\n",
       "      <td>FDX07</td>\n",
       "      <td>19.20</td>\n",
       "      <td>Regular</td>\n",
       "      <td>0.022911</td>\n",
       "      <td>Fruits and Vegetables</td>\n",
       "      <td>182.0950</td>\n",
       "      <td>OUT010</td>\n",
       "      <td>1998</td>\n",
       "      <td>Small</td>\n",
       "      <td>Tier 3</td>\n",
       "      <td>Grocery Store</td>\n",
       "      <td>732.3800</td>\n",
       "      <td>19</td>\n",
       "      <td>Food</td>\n",
       "    </tr>\n",
       "    <tr>\n",
       "      <th>4</th>\n",
       "      <td>NCD19</td>\n",
       "      <td>8.93</td>\n",
       "      <td>Low Fat</td>\n",
       "      <td>0.016164</td>\n",
       "      <td>Household</td>\n",
       "      <td>53.8614</td>\n",
       "      <td>OUT013</td>\n",
       "      <td>1987</td>\n",
       "      <td>High</td>\n",
       "      <td>Tier 3</td>\n",
       "      <td>Supermarket Type1</td>\n",
       "      <td>994.7052</td>\n",
       "      <td>30</td>\n",
       "      <td>Non_Consumables</td>\n",
       "    </tr>\n",
       "  </tbody>\n",
       "</table>\n",
       "</div>"
      ],
      "text/plain": [
       "  Item_Identifier  Item_Weight Item_Fat_Content  Item_Visibility  \\\n",
       "0           FDA15         9.30          Low Fat         0.016047   \n",
       "1           DRC01         5.92          Regular         0.019278   \n",
       "2           FDN15        17.50          Low Fat         0.016760   \n",
       "3           FDX07        19.20          Regular         0.022911   \n",
       "4           NCD19         8.93          Low Fat         0.016164   \n",
       "\n",
       "               Item_Type  Item_MRP Outlet_Identifier  \\\n",
       "0                  Dairy  249.8092            OUT049   \n",
       "1            Soft Drinks   48.2692            OUT018   \n",
       "2                   Meat  141.6180            OUT049   \n",
       "3  Fruits and Vegetables  182.0950            OUT010   \n",
       "4              Household   53.8614            OUT013   \n",
       "\n",
       "   Outlet_Establishment_Year Outlet_Size Outlet_Location_Type  \\\n",
       "0                       1999      Medium               Tier 1   \n",
       "1                       2009      Medium               Tier 3   \n",
       "2                       1999      Medium               Tier 1   \n",
       "3                       1998       Small               Tier 3   \n",
       "4                       1987        High               Tier 3   \n",
       "\n",
       "         Outlet_Type  Item_Outlet_Sales  Outlet_Years Item_Combined_Type  \n",
       "0  Supermarket Type1          3735.1380            18               Food  \n",
       "1  Supermarket Type2           443.4228             8             Drinks  \n",
       "2  Supermarket Type1          2097.2700            18               Food  \n",
       "3      Grocery Store           732.3800            19               Food  \n",
       "4  Supermarket Type1           994.7052            30    Non_Consumables  "
      ]
     },
     "execution_count": 105,
     "metadata": {},
     "output_type": "execute_result"
    }
   ],
   "source": [
    "df_s['Item_Combined_Type'] = df_s.apply(func, axis = 1)\n",
    "df_s.head()"
   ]
  },
  {
   "cell_type": "markdown",
   "metadata": {},
   "source": [
    "Here, we run into one more issue. Non-consumables are labelled as having regular fat content, when such items are in reality inedible. Thus, we need to replace the item fat content of these non-consumables with an \"Invalid\" entry."
   ]
  },
  {
   "cell_type": "code",
   "execution_count": 106,
   "metadata": {},
   "outputs": [],
   "source": [
    "def func1(row):\n",
    "    if \"Non_Consumables\" in row[\"Item_Combined_Type\"]:\n",
    "        val = \"Invalid\"\n",
    "    else:\n",
    "        val = row[\"Item_Fat_Content\"]\n",
    "    return val"
   ]
  },
  {
   "cell_type": "code",
   "execution_count": 107,
   "metadata": {
    "scrolled": true
   },
   "outputs": [
    {
     "data": {
      "text/html": [
       "<div>\n",
       "<style scoped>\n",
       "    .dataframe tbody tr th:only-of-type {\n",
       "        vertical-align: middle;\n",
       "    }\n",
       "\n",
       "    .dataframe tbody tr th {\n",
       "        vertical-align: top;\n",
       "    }\n",
       "\n",
       "    .dataframe thead th {\n",
       "        text-align: right;\n",
       "    }\n",
       "</style>\n",
       "<table border=\"1\" class=\"dataframe\">\n",
       "  <thead>\n",
       "    <tr style=\"text-align: right;\">\n",
       "      <th></th>\n",
       "      <th>Item_Identifier</th>\n",
       "      <th>Item_Weight</th>\n",
       "      <th>Item_Fat_Content</th>\n",
       "      <th>Item_Visibility</th>\n",
       "      <th>Item_Type</th>\n",
       "      <th>Item_MRP</th>\n",
       "      <th>Outlet_Identifier</th>\n",
       "      <th>Outlet_Establishment_Year</th>\n",
       "      <th>Outlet_Size</th>\n",
       "      <th>Outlet_Location_Type</th>\n",
       "      <th>Outlet_Type</th>\n",
       "      <th>Item_Outlet_Sales</th>\n",
       "      <th>Outlet_Years</th>\n",
       "      <th>Item_Combined_Type</th>\n",
       "    </tr>\n",
       "  </thead>\n",
       "  <tbody>\n",
       "    <tr>\n",
       "      <th>0</th>\n",
       "      <td>FDA15</td>\n",
       "      <td>9.300</td>\n",
       "      <td>Low Fat</td>\n",
       "      <td>0.016047</td>\n",
       "      <td>Dairy</td>\n",
       "      <td>249.8092</td>\n",
       "      <td>OUT049</td>\n",
       "      <td>1999</td>\n",
       "      <td>Medium</td>\n",
       "      <td>Tier 1</td>\n",
       "      <td>Supermarket Type1</td>\n",
       "      <td>3735.1380</td>\n",
       "      <td>18</td>\n",
       "      <td>Food</td>\n",
       "    </tr>\n",
       "    <tr>\n",
       "      <th>1</th>\n",
       "      <td>DRC01</td>\n",
       "      <td>5.920</td>\n",
       "      <td>Regular</td>\n",
       "      <td>0.019278</td>\n",
       "      <td>Soft Drinks</td>\n",
       "      <td>48.2692</td>\n",
       "      <td>OUT018</td>\n",
       "      <td>2009</td>\n",
       "      <td>Medium</td>\n",
       "      <td>Tier 3</td>\n",
       "      <td>Supermarket Type2</td>\n",
       "      <td>443.4228</td>\n",
       "      <td>8</td>\n",
       "      <td>Drinks</td>\n",
       "    </tr>\n",
       "    <tr>\n",
       "      <th>2</th>\n",
       "      <td>FDN15</td>\n",
       "      <td>17.500</td>\n",
       "      <td>Low Fat</td>\n",
       "      <td>0.016760</td>\n",
       "      <td>Meat</td>\n",
       "      <td>141.6180</td>\n",
       "      <td>OUT049</td>\n",
       "      <td>1999</td>\n",
       "      <td>Medium</td>\n",
       "      <td>Tier 1</td>\n",
       "      <td>Supermarket Type1</td>\n",
       "      <td>2097.2700</td>\n",
       "      <td>18</td>\n",
       "      <td>Food</td>\n",
       "    </tr>\n",
       "    <tr>\n",
       "      <th>3</th>\n",
       "      <td>FDX07</td>\n",
       "      <td>19.200</td>\n",
       "      <td>Regular</td>\n",
       "      <td>0.022911</td>\n",
       "      <td>Fruits and Vegetables</td>\n",
       "      <td>182.0950</td>\n",
       "      <td>OUT010</td>\n",
       "      <td>1998</td>\n",
       "      <td>Small</td>\n",
       "      <td>Tier 3</td>\n",
       "      <td>Grocery Store</td>\n",
       "      <td>732.3800</td>\n",
       "      <td>19</td>\n",
       "      <td>Food</td>\n",
       "    </tr>\n",
       "    <tr>\n",
       "      <th>4</th>\n",
       "      <td>NCD19</td>\n",
       "      <td>8.930</td>\n",
       "      <td>Invalid</td>\n",
       "      <td>0.016164</td>\n",
       "      <td>Household</td>\n",
       "      <td>53.8614</td>\n",
       "      <td>OUT013</td>\n",
       "      <td>1987</td>\n",
       "      <td>High</td>\n",
       "      <td>Tier 3</td>\n",
       "      <td>Supermarket Type1</td>\n",
       "      <td>994.7052</td>\n",
       "      <td>30</td>\n",
       "      <td>Non_Consumables</td>\n",
       "    </tr>\n",
       "    <tr>\n",
       "      <th>5</th>\n",
       "      <td>FDP36</td>\n",
       "      <td>10.395</td>\n",
       "      <td>Regular</td>\n",
       "      <td>0.091392</td>\n",
       "      <td>Baking Goods</td>\n",
       "      <td>51.4008</td>\n",
       "      <td>OUT018</td>\n",
       "      <td>2009</td>\n",
       "      <td>Medium</td>\n",
       "      <td>Tier 3</td>\n",
       "      <td>Supermarket Type2</td>\n",
       "      <td>556.6088</td>\n",
       "      <td>8</td>\n",
       "      <td>Food</td>\n",
       "    </tr>\n",
       "    <tr>\n",
       "      <th>6</th>\n",
       "      <td>FDO10</td>\n",
       "      <td>13.650</td>\n",
       "      <td>Regular</td>\n",
       "      <td>0.012741</td>\n",
       "      <td>Snack Foods</td>\n",
       "      <td>57.6588</td>\n",
       "      <td>OUT013</td>\n",
       "      <td>1987</td>\n",
       "      <td>High</td>\n",
       "      <td>Tier 3</td>\n",
       "      <td>Supermarket Type1</td>\n",
       "      <td>343.5528</td>\n",
       "      <td>30</td>\n",
       "      <td>Food</td>\n",
       "    </tr>\n",
       "    <tr>\n",
       "      <th>7</th>\n",
       "      <td>FDP10</td>\n",
       "      <td>19.000</td>\n",
       "      <td>Low Fat</td>\n",
       "      <td>0.127470</td>\n",
       "      <td>Snack Foods</td>\n",
       "      <td>107.7622</td>\n",
       "      <td>OUT027</td>\n",
       "      <td>1985</td>\n",
       "      <td>Medium</td>\n",
       "      <td>Tier 3</td>\n",
       "      <td>Supermarket Type3</td>\n",
       "      <td>4022.7636</td>\n",
       "      <td>32</td>\n",
       "      <td>Food</td>\n",
       "    </tr>\n",
       "    <tr>\n",
       "      <th>8</th>\n",
       "      <td>FDH17</td>\n",
       "      <td>16.200</td>\n",
       "      <td>Regular</td>\n",
       "      <td>0.016687</td>\n",
       "      <td>Frozen Foods</td>\n",
       "      <td>96.9726</td>\n",
       "      <td>OUT045</td>\n",
       "      <td>2002</td>\n",
       "      <td>Small</td>\n",
       "      <td>Tier 2</td>\n",
       "      <td>Supermarket Type1</td>\n",
       "      <td>1076.5986</td>\n",
       "      <td>15</td>\n",
       "      <td>Food</td>\n",
       "    </tr>\n",
       "    <tr>\n",
       "      <th>9</th>\n",
       "      <td>FDU28</td>\n",
       "      <td>19.200</td>\n",
       "      <td>Regular</td>\n",
       "      <td>0.094450</td>\n",
       "      <td>Frozen Foods</td>\n",
       "      <td>187.8214</td>\n",
       "      <td>OUT017</td>\n",
       "      <td>2007</td>\n",
       "      <td>Small</td>\n",
       "      <td>Tier 2</td>\n",
       "      <td>Supermarket Type1</td>\n",
       "      <td>4710.5350</td>\n",
       "      <td>10</td>\n",
       "      <td>Food</td>\n",
       "    </tr>\n",
       "    <tr>\n",
       "      <th>10</th>\n",
       "      <td>FDY07</td>\n",
       "      <td>11.800</td>\n",
       "      <td>Low Fat</td>\n",
       "      <td>0.121880</td>\n",
       "      <td>Fruits and Vegetables</td>\n",
       "      <td>45.5402</td>\n",
       "      <td>OUT049</td>\n",
       "      <td>1999</td>\n",
       "      <td>Medium</td>\n",
       "      <td>Tier 1</td>\n",
       "      <td>Supermarket Type1</td>\n",
       "      <td>1516.0266</td>\n",
       "      <td>18</td>\n",
       "      <td>Food</td>\n",
       "    </tr>\n",
       "    <tr>\n",
       "      <th>11</th>\n",
       "      <td>FDA03</td>\n",
       "      <td>18.500</td>\n",
       "      <td>Regular</td>\n",
       "      <td>0.045464</td>\n",
       "      <td>Dairy</td>\n",
       "      <td>144.1102</td>\n",
       "      <td>OUT046</td>\n",
       "      <td>1997</td>\n",
       "      <td>Small</td>\n",
       "      <td>Tier 1</td>\n",
       "      <td>Supermarket Type1</td>\n",
       "      <td>2187.1530</td>\n",
       "      <td>20</td>\n",
       "      <td>Food</td>\n",
       "    </tr>\n",
       "    <tr>\n",
       "      <th>12</th>\n",
       "      <td>FDX32</td>\n",
       "      <td>15.100</td>\n",
       "      <td>Regular</td>\n",
       "      <td>0.100014</td>\n",
       "      <td>Fruits and Vegetables</td>\n",
       "      <td>145.4786</td>\n",
       "      <td>OUT049</td>\n",
       "      <td>1999</td>\n",
       "      <td>Medium</td>\n",
       "      <td>Tier 1</td>\n",
       "      <td>Supermarket Type1</td>\n",
       "      <td>1589.2646</td>\n",
       "      <td>18</td>\n",
       "      <td>Food</td>\n",
       "    </tr>\n",
       "    <tr>\n",
       "      <th>13</th>\n",
       "      <td>FDS46</td>\n",
       "      <td>17.600</td>\n",
       "      <td>Regular</td>\n",
       "      <td>0.047257</td>\n",
       "      <td>Snack Foods</td>\n",
       "      <td>119.6782</td>\n",
       "      <td>OUT046</td>\n",
       "      <td>1997</td>\n",
       "      <td>Small</td>\n",
       "      <td>Tier 1</td>\n",
       "      <td>Supermarket Type1</td>\n",
       "      <td>2145.2076</td>\n",
       "      <td>20</td>\n",
       "      <td>Food</td>\n",
       "    </tr>\n",
       "    <tr>\n",
       "      <th>14</th>\n",
       "      <td>FDF32</td>\n",
       "      <td>16.350</td>\n",
       "      <td>Low Fat</td>\n",
       "      <td>0.068024</td>\n",
       "      <td>Fruits and Vegetables</td>\n",
       "      <td>196.4426</td>\n",
       "      <td>OUT013</td>\n",
       "      <td>1987</td>\n",
       "      <td>High</td>\n",
       "      <td>Tier 3</td>\n",
       "      <td>Supermarket Type1</td>\n",
       "      <td>1977.4260</td>\n",
       "      <td>30</td>\n",
       "      <td>Food</td>\n",
       "    </tr>\n",
       "    <tr>\n",
       "      <th>15</th>\n",
       "      <td>FDP49</td>\n",
       "      <td>9.000</td>\n",
       "      <td>Regular</td>\n",
       "      <td>0.069089</td>\n",
       "      <td>Breakfast</td>\n",
       "      <td>56.3614</td>\n",
       "      <td>OUT046</td>\n",
       "      <td>1997</td>\n",
       "      <td>Small</td>\n",
       "      <td>Tier 1</td>\n",
       "      <td>Supermarket Type1</td>\n",
       "      <td>1547.3192</td>\n",
       "      <td>20</td>\n",
       "      <td>Food</td>\n",
       "    </tr>\n",
       "    <tr>\n",
       "      <th>16</th>\n",
       "      <td>NCB42</td>\n",
       "      <td>11.800</td>\n",
       "      <td>Invalid</td>\n",
       "      <td>0.008596</td>\n",
       "      <td>Health and Hygiene</td>\n",
       "      <td>115.3492</td>\n",
       "      <td>OUT018</td>\n",
       "      <td>2009</td>\n",
       "      <td>Medium</td>\n",
       "      <td>Tier 3</td>\n",
       "      <td>Supermarket Type2</td>\n",
       "      <td>1621.8888</td>\n",
       "      <td>8</td>\n",
       "      <td>Non_Consumables</td>\n",
       "    </tr>\n",
       "    <tr>\n",
       "      <th>17</th>\n",
       "      <td>FDP49</td>\n",
       "      <td>9.000</td>\n",
       "      <td>Regular</td>\n",
       "      <td>0.069196</td>\n",
       "      <td>Breakfast</td>\n",
       "      <td>54.3614</td>\n",
       "      <td>OUT049</td>\n",
       "      <td>1999</td>\n",
       "      <td>Medium</td>\n",
       "      <td>Tier 1</td>\n",
       "      <td>Supermarket Type1</td>\n",
       "      <td>718.3982</td>\n",
       "      <td>18</td>\n",
       "      <td>Food</td>\n",
       "    </tr>\n",
       "    <tr>\n",
       "      <th>18</th>\n",
       "      <td>DRI11</td>\n",
       "      <td>8.260</td>\n",
       "      <td>Low Fat</td>\n",
       "      <td>0.034238</td>\n",
       "      <td>Hard Drinks</td>\n",
       "      <td>113.2834</td>\n",
       "      <td>OUT027</td>\n",
       "      <td>1985</td>\n",
       "      <td>Medium</td>\n",
       "      <td>Tier 3</td>\n",
       "      <td>Supermarket Type3</td>\n",
       "      <td>2303.6680</td>\n",
       "      <td>32</td>\n",
       "      <td>Drinks</td>\n",
       "    </tr>\n",
       "    <tr>\n",
       "      <th>19</th>\n",
       "      <td>FDU02</td>\n",
       "      <td>13.350</td>\n",
       "      <td>Low Fat</td>\n",
       "      <td>0.102492</td>\n",
       "      <td>Dairy</td>\n",
       "      <td>230.5352</td>\n",
       "      <td>OUT035</td>\n",
       "      <td>2004</td>\n",
       "      <td>Small</td>\n",
       "      <td>Tier 2</td>\n",
       "      <td>Supermarket Type1</td>\n",
       "      <td>2748.4224</td>\n",
       "      <td>13</td>\n",
       "      <td>Food</td>\n",
       "    </tr>\n",
       "    <tr>\n",
       "      <th>20</th>\n",
       "      <td>FDN22</td>\n",
       "      <td>18.850</td>\n",
       "      <td>Regular</td>\n",
       "      <td>0.138190</td>\n",
       "      <td>Snack Foods</td>\n",
       "      <td>250.8724</td>\n",
       "      <td>OUT013</td>\n",
       "      <td>1987</td>\n",
       "      <td>High</td>\n",
       "      <td>Tier 3</td>\n",
       "      <td>Supermarket Type1</td>\n",
       "      <td>3775.0860</td>\n",
       "      <td>30</td>\n",
       "      <td>Food</td>\n",
       "    </tr>\n",
       "    <tr>\n",
       "      <th>21</th>\n",
       "      <td>FDW12</td>\n",
       "      <td>19.000</td>\n",
       "      <td>Regular</td>\n",
       "      <td>0.035400</td>\n",
       "      <td>Baking Goods</td>\n",
       "      <td>144.5444</td>\n",
       "      <td>OUT027</td>\n",
       "      <td>1985</td>\n",
       "      <td>Medium</td>\n",
       "      <td>Tier 3</td>\n",
       "      <td>Supermarket Type3</td>\n",
       "      <td>4064.0432</td>\n",
       "      <td>32</td>\n",
       "      <td>Food</td>\n",
       "    </tr>\n",
       "    <tr>\n",
       "      <th>22</th>\n",
       "      <td>NCB30</td>\n",
       "      <td>14.600</td>\n",
       "      <td>Invalid</td>\n",
       "      <td>0.025698</td>\n",
       "      <td>Household</td>\n",
       "      <td>196.5084</td>\n",
       "      <td>OUT035</td>\n",
       "      <td>2004</td>\n",
       "      <td>Small</td>\n",
       "      <td>Tier 2</td>\n",
       "      <td>Supermarket Type1</td>\n",
       "      <td>1587.2672</td>\n",
       "      <td>13</td>\n",
       "      <td>Non_Consumables</td>\n",
       "    </tr>\n",
       "    <tr>\n",
       "      <th>23</th>\n",
       "      <td>FDC37</td>\n",
       "      <td>15.500</td>\n",
       "      <td>Low Fat</td>\n",
       "      <td>0.057557</td>\n",
       "      <td>Baking Goods</td>\n",
       "      <td>107.6938</td>\n",
       "      <td>OUT019</td>\n",
       "      <td>1985</td>\n",
       "      <td>Small</td>\n",
       "      <td>Tier 1</td>\n",
       "      <td>Grocery Store</td>\n",
       "      <td>214.3876</td>\n",
       "      <td>32</td>\n",
       "      <td>Food</td>\n",
       "    </tr>\n",
       "    <tr>\n",
       "      <th>24</th>\n",
       "      <td>FDR28</td>\n",
       "      <td>13.850</td>\n",
       "      <td>Regular</td>\n",
       "      <td>0.025896</td>\n",
       "      <td>Frozen Foods</td>\n",
       "      <td>165.0210</td>\n",
       "      <td>OUT046</td>\n",
       "      <td>1997</td>\n",
       "      <td>Small</td>\n",
       "      <td>Tier 1</td>\n",
       "      <td>Supermarket Type1</td>\n",
       "      <td>4078.0250</td>\n",
       "      <td>20</td>\n",
       "      <td>Food</td>\n",
       "    </tr>\n",
       "    <tr>\n",
       "      <th>25</th>\n",
       "      <td>NCD06</td>\n",
       "      <td>13.000</td>\n",
       "      <td>Invalid</td>\n",
       "      <td>0.099887</td>\n",
       "      <td>Household</td>\n",
       "      <td>45.9060</td>\n",
       "      <td>OUT017</td>\n",
       "      <td>2007</td>\n",
       "      <td>Small</td>\n",
       "      <td>Tier 2</td>\n",
       "      <td>Supermarket Type1</td>\n",
       "      <td>838.9080</td>\n",
       "      <td>10</td>\n",
       "      <td>Non_Consumables</td>\n",
       "    </tr>\n",
       "    <tr>\n",
       "      <th>26</th>\n",
       "      <td>FDV10</td>\n",
       "      <td>7.645</td>\n",
       "      <td>Regular</td>\n",
       "      <td>0.066693</td>\n",
       "      <td>Snack Foods</td>\n",
       "      <td>42.3112</td>\n",
       "      <td>OUT035</td>\n",
       "      <td>2004</td>\n",
       "      <td>Small</td>\n",
       "      <td>Tier 2</td>\n",
       "      <td>Supermarket Type1</td>\n",
       "      <td>1065.2800</td>\n",
       "      <td>13</td>\n",
       "      <td>Food</td>\n",
       "    </tr>\n",
       "    <tr>\n",
       "      <th>27</th>\n",
       "      <td>DRJ59</td>\n",
       "      <td>11.650</td>\n",
       "      <td>Low Fat</td>\n",
       "      <td>0.019356</td>\n",
       "      <td>Hard Drinks</td>\n",
       "      <td>39.1164</td>\n",
       "      <td>OUT013</td>\n",
       "      <td>1987</td>\n",
       "      <td>High</td>\n",
       "      <td>Tier 3</td>\n",
       "      <td>Supermarket Type1</td>\n",
       "      <td>308.9312</td>\n",
       "      <td>30</td>\n",
       "      <td>Drinks</td>\n",
       "    </tr>\n",
       "    <tr>\n",
       "      <th>28</th>\n",
       "      <td>FDE51</td>\n",
       "      <td>5.925</td>\n",
       "      <td>Regular</td>\n",
       "      <td>0.161467</td>\n",
       "      <td>Dairy</td>\n",
       "      <td>45.5086</td>\n",
       "      <td>OUT010</td>\n",
       "      <td>1998</td>\n",
       "      <td>Small</td>\n",
       "      <td>Tier 3</td>\n",
       "      <td>Grocery Store</td>\n",
       "      <td>178.4344</td>\n",
       "      <td>19</td>\n",
       "      <td>Food</td>\n",
       "    </tr>\n",
       "    <tr>\n",
       "      <th>29</th>\n",
       "      <td>FDC14</td>\n",
       "      <td>14.500</td>\n",
       "      <td>Regular</td>\n",
       "      <td>0.072222</td>\n",
       "      <td>Canned</td>\n",
       "      <td>43.6454</td>\n",
       "      <td>OUT019</td>\n",
       "      <td>1985</td>\n",
       "      <td>Small</td>\n",
       "      <td>Tier 1</td>\n",
       "      <td>Grocery Store</td>\n",
       "      <td>125.8362</td>\n",
       "      <td>32</td>\n",
       "      <td>Food</td>\n",
       "    </tr>\n",
       "  </tbody>\n",
       "</table>\n",
       "</div>"
      ],
      "text/plain": [
       "   Item_Identifier  Item_Weight Item_Fat_Content  Item_Visibility  \\\n",
       "0            FDA15        9.300          Low Fat         0.016047   \n",
       "1            DRC01        5.920          Regular         0.019278   \n",
       "2            FDN15       17.500          Low Fat         0.016760   \n",
       "3            FDX07       19.200          Regular         0.022911   \n",
       "4            NCD19        8.930          Invalid         0.016164   \n",
       "5            FDP36       10.395          Regular         0.091392   \n",
       "6            FDO10       13.650          Regular         0.012741   \n",
       "7            FDP10       19.000          Low Fat         0.127470   \n",
       "8            FDH17       16.200          Regular         0.016687   \n",
       "9            FDU28       19.200          Regular         0.094450   \n",
       "10           FDY07       11.800          Low Fat         0.121880   \n",
       "11           FDA03       18.500          Regular         0.045464   \n",
       "12           FDX32       15.100          Regular         0.100014   \n",
       "13           FDS46       17.600          Regular         0.047257   \n",
       "14           FDF32       16.350          Low Fat         0.068024   \n",
       "15           FDP49        9.000          Regular         0.069089   \n",
       "16           NCB42       11.800          Invalid         0.008596   \n",
       "17           FDP49        9.000          Regular         0.069196   \n",
       "18           DRI11        8.260          Low Fat         0.034238   \n",
       "19           FDU02       13.350          Low Fat         0.102492   \n",
       "20           FDN22       18.850          Regular         0.138190   \n",
       "21           FDW12       19.000          Regular         0.035400   \n",
       "22           NCB30       14.600          Invalid         0.025698   \n",
       "23           FDC37       15.500          Low Fat         0.057557   \n",
       "24           FDR28       13.850          Regular         0.025896   \n",
       "25           NCD06       13.000          Invalid         0.099887   \n",
       "26           FDV10        7.645          Regular         0.066693   \n",
       "27           DRJ59       11.650          Low Fat         0.019356   \n",
       "28           FDE51        5.925          Regular         0.161467   \n",
       "29           FDC14       14.500          Regular         0.072222   \n",
       "\n",
       "                Item_Type  Item_MRP Outlet_Identifier  \\\n",
       "0                   Dairy  249.8092            OUT049   \n",
       "1             Soft Drinks   48.2692            OUT018   \n",
       "2                    Meat  141.6180            OUT049   \n",
       "3   Fruits and Vegetables  182.0950            OUT010   \n",
       "4               Household   53.8614            OUT013   \n",
       "5            Baking Goods   51.4008            OUT018   \n",
       "6             Snack Foods   57.6588            OUT013   \n",
       "7             Snack Foods  107.7622            OUT027   \n",
       "8            Frozen Foods   96.9726            OUT045   \n",
       "9            Frozen Foods  187.8214            OUT017   \n",
       "10  Fruits and Vegetables   45.5402            OUT049   \n",
       "11                  Dairy  144.1102            OUT046   \n",
       "12  Fruits and Vegetables  145.4786            OUT049   \n",
       "13            Snack Foods  119.6782            OUT046   \n",
       "14  Fruits and Vegetables  196.4426            OUT013   \n",
       "15              Breakfast   56.3614            OUT046   \n",
       "16     Health and Hygiene  115.3492            OUT018   \n",
       "17              Breakfast   54.3614            OUT049   \n",
       "18            Hard Drinks  113.2834            OUT027   \n",
       "19                  Dairy  230.5352            OUT035   \n",
       "20            Snack Foods  250.8724            OUT013   \n",
       "21           Baking Goods  144.5444            OUT027   \n",
       "22              Household  196.5084            OUT035   \n",
       "23           Baking Goods  107.6938            OUT019   \n",
       "24           Frozen Foods  165.0210            OUT046   \n",
       "25              Household   45.9060            OUT017   \n",
       "26            Snack Foods   42.3112            OUT035   \n",
       "27            Hard Drinks   39.1164            OUT013   \n",
       "28                  Dairy   45.5086            OUT010   \n",
       "29                 Canned   43.6454            OUT019   \n",
       "\n",
       "    Outlet_Establishment_Year Outlet_Size Outlet_Location_Type  \\\n",
       "0                        1999      Medium               Tier 1   \n",
       "1                        2009      Medium               Tier 3   \n",
       "2                        1999      Medium               Tier 1   \n",
       "3                        1998       Small               Tier 3   \n",
       "4                        1987        High               Tier 3   \n",
       "5                        2009      Medium               Tier 3   \n",
       "6                        1987        High               Tier 3   \n",
       "7                        1985      Medium               Tier 3   \n",
       "8                        2002       Small               Tier 2   \n",
       "9                        2007       Small               Tier 2   \n",
       "10                       1999      Medium               Tier 1   \n",
       "11                       1997       Small               Tier 1   \n",
       "12                       1999      Medium               Tier 1   \n",
       "13                       1997       Small               Tier 1   \n",
       "14                       1987        High               Tier 3   \n",
       "15                       1997       Small               Tier 1   \n",
       "16                       2009      Medium               Tier 3   \n",
       "17                       1999      Medium               Tier 1   \n",
       "18                       1985      Medium               Tier 3   \n",
       "19                       2004       Small               Tier 2   \n",
       "20                       1987        High               Tier 3   \n",
       "21                       1985      Medium               Tier 3   \n",
       "22                       2004       Small               Tier 2   \n",
       "23                       1985       Small               Tier 1   \n",
       "24                       1997       Small               Tier 1   \n",
       "25                       2007       Small               Tier 2   \n",
       "26                       2004       Small               Tier 2   \n",
       "27                       1987        High               Tier 3   \n",
       "28                       1998       Small               Tier 3   \n",
       "29                       1985       Small               Tier 1   \n",
       "\n",
       "          Outlet_Type  Item_Outlet_Sales  Outlet_Years Item_Combined_Type  \n",
       "0   Supermarket Type1          3735.1380            18               Food  \n",
       "1   Supermarket Type2           443.4228             8             Drinks  \n",
       "2   Supermarket Type1          2097.2700            18               Food  \n",
       "3       Grocery Store           732.3800            19               Food  \n",
       "4   Supermarket Type1           994.7052            30    Non_Consumables  \n",
       "5   Supermarket Type2           556.6088             8               Food  \n",
       "6   Supermarket Type1           343.5528            30               Food  \n",
       "7   Supermarket Type3          4022.7636            32               Food  \n",
       "8   Supermarket Type1          1076.5986            15               Food  \n",
       "9   Supermarket Type1          4710.5350            10               Food  \n",
       "10  Supermarket Type1          1516.0266            18               Food  \n",
       "11  Supermarket Type1          2187.1530            20               Food  \n",
       "12  Supermarket Type1          1589.2646            18               Food  \n",
       "13  Supermarket Type1          2145.2076            20               Food  \n",
       "14  Supermarket Type1          1977.4260            30               Food  \n",
       "15  Supermarket Type1          1547.3192            20               Food  \n",
       "16  Supermarket Type2          1621.8888             8    Non_Consumables  \n",
       "17  Supermarket Type1           718.3982            18               Food  \n",
       "18  Supermarket Type3          2303.6680            32             Drinks  \n",
       "19  Supermarket Type1          2748.4224            13               Food  \n",
       "20  Supermarket Type1          3775.0860            30               Food  \n",
       "21  Supermarket Type3          4064.0432            32               Food  \n",
       "22  Supermarket Type1          1587.2672            13    Non_Consumables  \n",
       "23      Grocery Store           214.3876            32               Food  \n",
       "24  Supermarket Type1          4078.0250            20               Food  \n",
       "25  Supermarket Type1           838.9080            10    Non_Consumables  \n",
       "26  Supermarket Type1          1065.2800            13               Food  \n",
       "27  Supermarket Type1           308.9312            30             Drinks  \n",
       "28      Grocery Store           178.4344            19               Food  \n",
       "29      Grocery Store           125.8362            32               Food  "
      ]
     },
     "execution_count": 107,
     "metadata": {},
     "output_type": "execute_result"
    }
   ],
   "source": [
    "df_s['Item_Fat_Content'] = df_s.apply(func1, axis = 1)\n",
    "df_s.head(30)"
   ]
  },
  {
   "cell_type": "markdown",
   "metadata": {},
   "source": [
    "With this, the dataset will now be available for further analysis. "
   ]
  },
  {
   "cell_type": "markdown",
   "metadata": {},
   "source": [
    "# 2. Data Visualisation"
   ]
  },
  {
   "cell_type": "markdown",
   "metadata": {},
   "source": [
    "We will now use various graphs to show the possible factors that will affect total sales of an outlet.\n",
    "\n",
    "## 2.1 Outlet Sales\n",
    "\n",
    "First, we shall now plot a histogram of the sales to observe whether it follows a normal distribution."
   ]
  },
  {
   "cell_type": "code",
   "execution_count": 132,
   "metadata": {},
   "outputs": [
    {
     "ename": "TypeError",
     "evalue": "polyfit() missing 3 required positional arguments: 'x', 'y', and 'deg'",
     "output_type": "error",
     "traceback": [
      "\u001b[1;31m---------------------------------------------------------------------------\u001b[0m",
      "\u001b[1;31mTypeError\u001b[0m                                 Traceback (most recent call last)",
      "\u001b[1;32m<ipython-input-132-12adcc6a4e2e>\u001b[0m in \u001b[0;36m<module>\u001b[1;34m\u001b[0m\n\u001b[0;32m      1\u001b[0m \u001b[0mdf_s\u001b[0m\u001b[1;33m[\u001b[0m\u001b[1;34m'Item_Outlet_Sales'\u001b[0m\u001b[1;33m]\u001b[0m\u001b[1;33m.\u001b[0m\u001b[0mplot\u001b[0m\u001b[1;33m.\u001b[0m\u001b[0mhist\u001b[0m\u001b[1;33m(\u001b[0m\u001b[1;33m)\u001b[0m\u001b[1;33m\u001b[0m\u001b[1;33m\u001b[0m\u001b[0m\n\u001b[0;32m      2\u001b[0m \u001b[0mplt\u001b[0m\u001b[1;33m.\u001b[0m\u001b[0mxlabel\u001b[0m\u001b[1;33m(\u001b[0m\u001b[1;34m\"Item Outlet Sales ($)\"\u001b[0m\u001b[1;33m)\u001b[0m\u001b[1;33m\u001b[0m\u001b[1;33m\u001b[0m\u001b[0m\n\u001b[1;32m----> 3\u001b[1;33m \u001b[0mnp\u001b[0m\u001b[1;33m.\u001b[0m\u001b[0mpolyfit\u001b[0m\u001b[1;33m(\u001b[0m\u001b[1;33m)\u001b[0m\u001b[1;33m\u001b[0m\u001b[1;33m\u001b[0m\u001b[0m\n\u001b[0m\u001b[0;32m      4\u001b[0m \u001b[0mplt\u001b[0m\u001b[1;33m.\u001b[0m\u001b[0mshow\u001b[0m\u001b[1;33m(\u001b[0m\u001b[1;33m)\u001b[0m\u001b[1;33m\u001b[0m\u001b[1;33m\u001b[0m\u001b[0m\n",
      "\u001b[1;31mTypeError\u001b[0m: polyfit() missing 3 required positional arguments: 'x', 'y', and 'deg'"
     ]
    },
    {
     "data": {
      "image/png": "[encoded data removed]",
      "text/plain": [
       "<Figure size 432x288 with 1 Axes>"
      ]
     },
     "metadata": {
      "needs_background": "light"
     },
     "output_type": "display_data"
    }
   ],
   "source": [
    "df_s['Item_Outlet_Sales'].plot.hist()\n",
    "plt.xlabel(\"Item Outlet Sales ($)\")\n",
    "plt.show()"
   ]
  },
  {
   "cell_type": "markdown",
   "metadata": {},
   "source": [
    "From the histogram, it does not seem that item sales follow a normal distribution, but instead, a decreasing exponential function. We shall use this information later, in our regression models.\n",
    "\n",
    "Next, we check the outlet type of each outlet. "
   ]
  },
  {
   "cell_type": "code",
   "execution_count": 109,
   "metadata": {},
   "outputs": [
    {
     "data": {
      "text/html": [
       "<div>\n",
       "<style scoped>\n",
       "    .dataframe tbody tr th:only-of-type {\n",
       "        vertical-align: middle;\n",
       "    }\n",
       "\n",
       "    .dataframe tbody tr th {\n",
       "        vertical-align: top;\n",
       "    }\n",
       "\n",
       "    .dataframe thead th {\n",
       "        text-align: right;\n",
       "    }\n",
       "</style>\n",
       "<table border=\"1\" class=\"dataframe\">\n",
       "  <thead>\n",
       "    <tr style=\"text-align: right;\">\n",
       "      <th></th>\n",
       "      <th>Outlet_Identifier</th>\n",
       "      <th>Outlet_Type</th>\n",
       "    </tr>\n",
       "  </thead>\n",
       "  <tbody>\n",
       "    <tr>\n",
       "      <th>0</th>\n",
       "      <td>OUT010</td>\n",
       "      <td>[Grocery Store]</td>\n",
       "    </tr>\n",
       "    <tr>\n",
       "      <th>1</th>\n",
       "      <td>OUT013</td>\n",
       "      <td>[Supermarket Type1]</td>\n",
       "    </tr>\n",
       "    <tr>\n",
       "      <th>2</th>\n",
       "      <td>OUT017</td>\n",
       "      <td>[Supermarket Type1]</td>\n",
       "    </tr>\n",
       "    <tr>\n",
       "      <th>3</th>\n",
       "      <td>OUT018</td>\n",
       "      <td>[Supermarket Type2]</td>\n",
       "    </tr>\n",
       "    <tr>\n",
       "      <th>4</th>\n",
       "      <td>OUT019</td>\n",
       "      <td>[Grocery Store]</td>\n",
       "    </tr>\n",
       "    <tr>\n",
       "      <th>5</th>\n",
       "      <td>OUT027</td>\n",
       "      <td>[Supermarket Type3]</td>\n",
       "    </tr>\n",
       "    <tr>\n",
       "      <th>6</th>\n",
       "      <td>OUT035</td>\n",
       "      <td>[Supermarket Type1]</td>\n",
       "    </tr>\n",
       "    <tr>\n",
       "      <th>7</th>\n",
       "      <td>OUT045</td>\n",
       "      <td>[Supermarket Type1]</td>\n",
       "    </tr>\n",
       "    <tr>\n",
       "      <th>8</th>\n",
       "      <td>OUT046</td>\n",
       "      <td>[Supermarket Type1]</td>\n",
       "    </tr>\n",
       "    <tr>\n",
       "      <th>9</th>\n",
       "      <td>OUT049</td>\n",
       "      <td>[Supermarket Type1]</td>\n",
       "    </tr>\n",
       "  </tbody>\n",
       "</table>\n",
       "</div>"
      ],
      "text/plain": [
       "  Outlet_Identifier          Outlet_Type\n",
       "0            OUT010      [Grocery Store]\n",
       "1            OUT013  [Supermarket Type1]\n",
       "2            OUT017  [Supermarket Type1]\n",
       "3            OUT018  [Supermarket Type2]\n",
       "4            OUT019      [Grocery Store]\n",
       "5            OUT027  [Supermarket Type3]\n",
       "6            OUT035  [Supermarket Type1]\n",
       "7            OUT045  [Supermarket Type1]\n",
       "8            OUT046  [Supermarket Type1]\n",
       "9            OUT049  [Supermarket Type1]"
      ]
     },
     "execution_count": 109,
     "metadata": {},
     "output_type": "execute_result"
    }
   ],
   "source": [
    "df_outlet = df_s.groupby('Outlet_Identifier')['Outlet_Type'].unique().reset_index()\n",
    "df_outlet"
   ]
  },
  {
   "cell_type": "markdown",
   "metadata": {},
   "source": [
    "We see that outlet 10 and 19 are grocery stores, while outlet 18 is the only outlet of type 2, and outlet 27 is the only outlet of type 3. Intuitively, we will see if it is possible to group outlet type 2 and outlet type 3 together, for ease of our analysis. Hence, we shall plot a bargraph of how outlet types affect sales.  "
   ]
  },
  {
   "cell_type": "code",
   "execution_count": 110,
   "metadata": {},
   "outputs": [
    {
     "data": {
      "text/plain": [
       "Text(0, 0.5, 'Average Sales ($)')"
      ]
     },
     "execution_count": 110,
     "metadata": {},
     "output_type": "execute_result"
    },
    {
     "data": {
      "image/png": "[encoded data removed]",
      "text/plain": [
       "<Figure size 432x288 with 1 Axes>"
      ]
     },
     "metadata": {
      "needs_background": "light"
     },
     "output_type": "display_data"
    }
   ],
   "source": [
    "type_size = df_s['Outlet_Type'].value_counts()\n",
    "df_type = df_s.groupby('Outlet_Type')['Item_Outlet_Sales'].sum()\n",
    "df_type = df_type.div(type_size)\n",
    "\n",
    "df_type.plot.bar()\n",
    "plt.xlabel(\"Outlet Types\")\n",
    "plt.ylabel(\"Average Sales ($)\")"
   ]
  },
  {
   "cell_type": "markdown",
   "metadata": {},
   "source": [
    "We see that the outlet type 2 and outlet type 3 has very different average item sales, and thus we will not be grouping those two groups together. Proceeding with our analysis, we shall now analyse how each outlet differs in total sales. "
   ]
  },
  {
   "cell_type": "code",
   "execution_count": 111,
   "metadata": {},
   "outputs": [
    {
     "data": {
      "image/png": "[encoded data removed]",
      "text/plain": [
       "<Figure size 432x288 with 1 Axes>"
      ]
     },
     "metadata": {
      "needs_background": "light"
     },
     "output_type": "display_data"
    }
   ],
   "source": [
    "df_outlets = df_s.groupby('Outlet_Identifier')['Item_Outlet_Sales'].sum()\n",
    "\n",
    "df_outlets.plot.bar()\n",
    "plt.xlabel(\"Outlets\")\n",
    "plt.ylabel(\"Total Sales ($)\")\n",
    "plt.show()"
   ]
  },
  {
   "cell_type": "markdown",
   "metadata": {},
   "source": [
    "We see that outlets 10 and 19 to enjoy significantly lower sales, which correspond to the fact they are grocery stores. Again, we see that outlet 18 (Type 2) and outlet 27 (Type 3) differ in their average sales as well. Since outlet 27 (Type 3) has a much higher average sales, a possible conclusion is that it is a hypermart that contributes to the much larger sales. \n",
    "\n",
    "From this graph (and the one above), we see that Outlet Type 2 supermarkets have a slightly lower average sales and total sales compared to outlet type 1 supermarkets. We shall further analyse the years that an outlet has been operating for to see if we can further discern between Outlet Type 1 and Type 2. "
   ]
  },
  {
   "cell_type": "code",
   "execution_count": 112,
   "metadata": {},
   "outputs": [
    {
     "data": {
      "text/html": [
       "<div>\n",
       "<style scoped>\n",
       "    .dataframe tbody tr th:only-of-type {\n",
       "        vertical-align: middle;\n",
       "    }\n",
       "\n",
       "    .dataframe tbody tr th {\n",
       "        vertical-align: top;\n",
       "    }\n",
       "\n",
       "    .dataframe thead th {\n",
       "        text-align: right;\n",
       "    }\n",
       "</style>\n",
       "<table border=\"1\" class=\"dataframe\">\n",
       "  <thead>\n",
       "    <tr style=\"text-align: right;\">\n",
       "      <th></th>\n",
       "      <th>Outlet_Size</th>\n",
       "      <th>Outlet_Location_Type</th>\n",
       "      <th>Outlet_Identifier</th>\n",
       "    </tr>\n",
       "  </thead>\n",
       "  <tbody>\n",
       "    <tr>\n",
       "      <th>0</th>\n",
       "      <td>High</td>\n",
       "      <td>Tier 3</td>\n",
       "      <td>[OUT013]</td>\n",
       "    </tr>\n",
       "    <tr>\n",
       "      <th>1</th>\n",
       "      <td>Medium</td>\n",
       "      <td>Tier 1</td>\n",
       "      <td>[OUT049]</td>\n",
       "    </tr>\n",
       "    <tr>\n",
       "      <th>2</th>\n",
       "      <td>Medium</td>\n",
       "      <td>Tier 3</td>\n",
       "      <td>[OUT018, OUT027]</td>\n",
       "    </tr>\n",
       "    <tr>\n",
       "      <th>3</th>\n",
       "      <td>Small</td>\n",
       "      <td>Tier 1</td>\n",
       "      <td>[OUT046, OUT019]</td>\n",
       "    </tr>\n",
       "    <tr>\n",
       "      <th>4</th>\n",
       "      <td>Small</td>\n",
       "      <td>Tier 2</td>\n",
       "      <td>[OUT045, OUT017, OUT035]</td>\n",
       "    </tr>\n",
       "    <tr>\n",
       "      <th>5</th>\n",
       "      <td>Small</td>\n",
       "      <td>Tier 3</td>\n",
       "      <td>[OUT010]</td>\n",
       "    </tr>\n",
       "  </tbody>\n",
       "</table>\n",
       "</div>"
      ],
      "text/plain": [
       "  Outlet_Size Outlet_Location_Type         Outlet_Identifier\n",
       "0        High               Tier 3                  [OUT013]\n",
       "1      Medium               Tier 1                  [OUT049]\n",
       "2      Medium               Tier 3          [OUT018, OUT027]\n",
       "3       Small               Tier 1          [OUT046, OUT019]\n",
       "4       Small               Tier 2  [OUT045, OUT017, OUT035]\n",
       "5       Small               Tier 3                  [OUT010]"
      ]
     },
     "execution_count": 112,
     "metadata": {},
     "output_type": "execute_result"
    }
   ],
   "source": [
    "df_outlet = df_s.groupby(['Outlet_Size','Outlet_Location_Type'])['Outlet_Identifier'].unique().reset_index()\n",
    "df_outlet"
   ]
  },
  {
   "cell_type": "markdown",
   "metadata": {},
   "source": [
    "From the above dataframe, we see that Outlet 18 (type 2) and 27 (type 3) are both medium sized outlets, at a tier 3 outlet location type, but have large differences in their average and total sales. Thus, our group believes that a possible difference between Type 1 and Type 2 supermarkets is that a Type 2 supermarket is one that is built to be a hypermart that has yet to establish brand loyalty in that particulation region. "
   ]
  },
  {
   "cell_type": "markdown",
   "metadata": {},
   "source": [
    "Next, we shall use a box plot to examine how the sales of each outlet differ.\n"
   ]
  },
  {
   "cell_type": "code",
   "execution_count": 113,
   "metadata": {},
   "outputs": [
    {
     "data": {
      "text/plain": [
       "([<matplotlib.axis.XTick at 0x1661f3ea9e8>,\n",
       "  <matplotlib.axis.XTick at 0x1661f3ea2b0>,\n",
       "  <matplotlib.axis.XTick at 0x1661f3ea160>,\n",
       "  <matplotlib.axis.XTick at 0x1661e2e81d0>,\n",
       "  <matplotlib.axis.XTick at 0x1661e2e86a0>,\n",
       "  <matplotlib.axis.XTick at 0x1661e2e8b70>,\n",
       "  <matplotlib.axis.XTick at 0x1661e2f40f0>,\n",
       "  <matplotlib.axis.XTick at 0x1661e2f4550>,\n",
       "  <matplotlib.axis.XTick at 0x1661e2e8b38>,\n",
       "  <matplotlib.axis.XTick at 0x1661e2f4160>],\n",
       " <a list of 10 Text xticklabel objects>)"
      ]
     },
     "execution_count": 113,
     "metadata": {},
     "output_type": "execute_result"
    },
    {
     "data": {
      "image/png": "[encoded data removed]",
      "text/plain": [
       "<Figure size 432x288 with 1 Axes>"
      ]
     },
     "metadata": {
      "needs_background": "light"
     },
     "output_type": "display_data"
    }
   ],
   "source": [
    "df_s.boxplot(column=\"Item_Outlet_Sales\", by='Outlet_Identifier')\n",
    "xtick = [1,2,3,4,5,6,7,8,9,10]\n",
    "outlet = [\"10\",\"13\",\"17\",\"18\",\"19\",\"27\",\"35\",\"45\",\"46\",\"49\"]\n",
    "plt.suptitle(\"\")\n",
    "plt.title(\"Outlet sales\")\n",
    "plt.xlabel(\"Outlets\")\n",
    "plt.ylabel(\"Total Sales\")\n",
    "plt.xticks(xtick, outlet)"
   ]
  },
  {
   "cell_type": "markdown",
   "metadata": {},
   "source": [
    "From the above graph, we can see that OUT027 has the highest variation in sales, though it manages to secure the highest amount of sales compared to other outlets. OUT027 is of supermarket Type 3, which also explains its volume of sales. Also, according to our hypothesis of Type 3 being a hypermart, it would be possible that they offer more products than other supermarket types, and thus leading to the greater variation in sales.\n",
    "\n",
    "Let us observe how each outlet type performs by plotting a boxplot of their sales."
   ]
  },
  {
   "cell_type": "code",
   "execution_count": 114,
   "metadata": {},
   "outputs": [
    {
     "data": {
      "text/plain": [
       "([<matplotlib.axis.XTick at 0x1661e1f4748>,\n",
       "  <matplotlib.axis.XTick at 0x1661e1f4080>,\n",
       "  <matplotlib.axis.XTick at 0x1661e1f2cf8>,\n",
       "  <matplotlib.axis.XTick at 0x1661e298dd8>],\n",
       " <a list of 4 Text xticklabel objects>)"
      ]
     },
     "execution_count": 114,
     "metadata": {},
     "output_type": "execute_result"
    },
    {
     "data": {
      "image/png": "[encoded data removed]",
      "text/plain": [
       "<Figure size 432x288 with 1 Axes>"
      ]
     },
     "metadata": {
      "needs_background": "light"
     },
     "output_type": "display_data"
    }
   ],
   "source": [
    "xtick = [1,2,3,4]\n",
    "types = [\"Grocery\", \"Type 1\", \"Type 2\", \"Type 3\"]\n",
    "df_s.boxplot(column='Item_Outlet_Sales', by='Outlet_Type')\n",
    "plt.suptitle('')\n",
    "plt.title('Boxplot of outlet types and overall sales')\n",
    "plt.xlabel('Outlets')\n",
    "plt.ylabel('Average Sales ($)')\n",
    "plt.xticks(xtick, types)"
   ]
  },
  {
   "cell_type": "markdown",
   "metadata": {},
   "source": [
    "From the boxplot above, we can see that although grocery stores have the lowest average sales compared to other outlet types, it has the lowest variance.\n",
    "\n",
    "Comparing between Supermarket Type1 and Type2, the average sales of Type2 is considered marginally lower, compared to the huge difference in variance, with more outliers. Again, this could possible be due to a greater line of items offered.\n",
    "\n",
    "Hence, if Prime Supermarket chooses to expand, they should look to build more Supermarket Type 3s, as it has the highest average sales that are way above the other outlet types. Also, Prime Supermarket should definitely look at avoid building more grocery stores as these stores have very low average sales. "
   ]
  },
  {
   "cell_type": "markdown",
   "metadata": {},
   "source": [
    "## 2.2 Outlet Types VS Average Sales\n",
    "\n",
    "Here, we will go into greater details to find out how the outlet type affect sales of an outlet.\n",
    "Let's make a further comparison with the location tier of the different outlet types."
   ]
  },
  {
   "cell_type": "code",
   "execution_count": 115,
   "metadata": {},
   "outputs": [],
   "source": [
    "# find the avg sales of a specific outlet type and tier.\n",
    "\n",
    "def find_avg_sales_tier(outlet_type, tier):\n",
    "    \n",
    "    df_type_venue = df_s.groupby(['Outlet_Type', 'Outlet_Location_Type'])['Item_Outlet_Sales'].sum()\n",
    "    \n",
    "    size = ((df_s['Outlet_Type'] == outlet_type) & (df_s['Outlet_Location_Type'] == tier)).sum()\n",
    "    avg_sales = df_type_venue[outlet_type][tier]/size\n",
    "    return avg_sales"
   ]
  },
  {
   "cell_type": "code",
   "execution_count": 116,
   "metadata": {},
   "outputs": [
    {
     "name": "stdout",
     "output_type": "stream",
     "text": [
      "Outlet_Type        Outlet_Location_Type\n",
      "Grocery Store      Tier 1                  1.795736e+05\n",
      "                   Tier 3                  1.883402e+05\n",
      "Supermarket Type1  Tier 1                  4.302365e+06\n",
      "                   Tier 2                  6.472314e+06\n",
      "                   Tier 3                  2.142664e+06\n",
      "Supermarket Type2  Tier 3                  1.851823e+06\n",
      "Supermarket Type3  Tier 3                  3.444468e+06\n",
      "Name: Item_Outlet_Sales, dtype: float64\n"
     ]
    },
    {
     "data": {
      "text/plain": [
       "Text(0, 0.5, 'Average Sales ($)')"
      ]
     },
     "execution_count": 116,
     "metadata": {},
     "output_type": "execute_result"
    },
    {
     "data": {
      "image/png": "[encoded data removed]",
      "text/plain": [
       "<Figure size 432x288 with 1 Axes>"
      ]
     },
     "metadata": {
      "needs_background": "light"
     },
     "output_type": "display_data"
    }
   ],
   "source": [
    "df_type_venue = df_s.groupby(['Outlet_Type', 'Outlet_Location_Type'])['Item_Outlet_Sales'].sum()\n",
    "print(df_type_venue)\n",
    "\n",
    "# from df_type_venue, we can see the various combinations of outlet type and tiers.\n",
    "\n",
    "tier1 = pd.Series({'Grocery Store': find_avg_sales_tier('Grocery Store', 'Tier 1'),\n",
    "                  'Supermarket Type1': find_avg_sales_tier('Supermarket Type1', 'Tier 1'),\n",
    "                  'Supermarket Type2': 0,\n",
    "                  'Supermarket Type3': 0})\n",
    "tier2 = pd.Series({'Grocery Store': 0,\n",
    "                   'Supermarket Type1': find_avg_sales_tier('Supermarket Type1', 'Tier 2'),\n",
    "                   'Supermarket Type2': 0,\n",
    "                   'Supermarket Type3': 0})\n",
    "tier3 = pd.Series({'Grocery Store': find_avg_sales_tier('Grocery Store', 'Tier 3'),\n",
    "                  'Supermarket Type1': find_avg_sales_tier('Supermarket Type1', 'Tier 3'),\n",
    "                  'Supermarket Type2': find_avg_sales_tier('Supermarket Type2', 'Tier 3'),\n",
    "                  'Supermarket Type3': find_avg_sales_tier('Supermarket Type3', 'Tier 3')})\n",
    "# print(tier1)\n",
    "# print(tier2)\n",
    "# print(tier3)\n",
    "\n",
    "avg_df =pd.DataFrame({'tier1': tier1,\n",
    "                      'tier2': tier2,\n",
    "                      'tier3': tier3})\n",
    "\n",
    "avg_df.plot.bar()\n",
    "plt.xlabel(\"Outlet Types\")\n",
    "plt.ylabel(\"Average Sales ($)\")"
   ]
  },
  {
   "cell_type": "markdown",
   "metadata": {},
   "source": [
    "As supermarket of Type2 and Type3 is only opened in Tier 3 locations, there is no basis of comparison between the different tiered locations with the specified supermarket type.\n",
    "\n",
    "For both grocery store and supermarket type1, we can see that the different tiered locations does not affect the sales of the specified supermarket type.\n",
    "\n",
    "One possible explanation for this is that in a country as dense as Singapore, the location type does not really matter for supermarkets, since there will always be Singaporeans that will frequent these supermarkets.\n",
    "\n",
    "From all the above graphs, we cannot deduce anything specific about the outlet size, outlet type and location type. We can only conclude that grocery stores have much lower sales than other supermarkets, while a Type 3 Supermarket have much higher sales. We will have to make a more in-depth analysis into the type of items sold for each category of outlets.\n"
   ]
  },
  {
   "cell_type": "markdown",
   "metadata": {},
   "source": [
    "\n",
    "## 2.3 Item Type VS Average Sales\n",
    "\n",
    "Therefore, we will now compare the type of foods and their visibility."
   ]
  },
  {
   "cell_type": "code",
   "execution_count": 117,
   "metadata": {},
   "outputs": [
    {
     "name": "stdout",
     "output_type": "stream",
     "text": [
      "Food               6121\n",
      "Non_Consumables    1599\n",
      "Drinks              799\n",
      "Name: Item_Combined_Type, dtype: int64\n"
     ]
    },
    {
     "data": {
      "text/plain": [
       "Text(0, 0.5, 'Average Visibility of Item')"
      ]
     },
     "execution_count": 117,
     "metadata": {},
     "output_type": "execute_result"
    },
    {
     "data": {
      "image/png": "[encoded data removed]",
      "text/plain": [
       "<Figure size 432x288 with 1 Axes>"
      ]
     },
     "metadata": {
      "needs_background": "light"
     },
     "output_type": "display_data"
    }
   ],
   "source": [
    "food_size = df_s['Item_Combined_Type'].value_counts()\n",
    "print(food_size)\n",
    "df_type = df_s.groupby('Item_Combined_Type')['Item_Visibility'].sum()\n",
    "df_type = df_type.div(food_size)\n",
    "\n",
    "df_type.plot.bar()\n",
    "plt.xlabel(\"Item Type\")\n",
    "plt.ylabel(\"Average Visibility of Item\")"
   ]
  },
  {
   "cell_type": "markdown",
   "metadata": {},
   "source": [
    "Since food has a higher average visibility, we shall check the volume of sales for each type of food to see if visibility correlates with the sales."
   ]
  },
  {
   "cell_type": "code",
   "execution_count": 118,
   "metadata": {},
   "outputs": [
    {
     "name": "stdout",
     "output_type": "stream",
     "text": [
      "Food               6121\n",
      "Non_Consumables    1599\n",
      "Drinks              799\n",
      "Name: Item_Combined_Type, dtype: int64\n"
     ]
    },
    {
     "data": {
      "text/plain": [
       "Text(0, 0.5, 'Average Sales ($)')"
      ]
     },
     "execution_count": 118,
     "metadata": {},
     "output_type": "execute_result"
    },
    {
     "data": {
      "image/png": "[encoded data removed]",
      "text/plain": [
       "<Figure size 432x288 with 1 Axes>"
      ]
     },
     "metadata": {
      "needs_background": "light"
     },
     "output_type": "display_data"
    }
   ],
   "source": [
    "food_size = df_s['Item_Combined_Type'].value_counts()\n",
    "print(food_size)\n",
    "df_type = df_s.groupby('Item_Combined_Type')['Item_Outlet_Sales'].sum()\n",
    "df_type = df_type.div(food_size)\n",
    "\n",
    "df_type.plot.bar()\n",
    "plt.xlabel(\"Item Type\")\n",
    "plt.ylabel(\"Average Sales ($)\")"
   ]
  },
  {
   "cell_type": "markdown",
   "metadata": {},
   "source": [
    "From this graph, we can possibly attribute the higher average sales of food to the higher visibility of food.\n",
    "\n",
    "However, this relationship is not reflected for drinks and non-consumables. This may be due to the necessity of non-consumables such as detergent and light bulbs.\n",
    "\n",
    "Now, we will analyse the performance of the sales of each category of items with each outlet type, as different category of items may be more popular in different outlet type "
   ]
  },
  {
   "cell_type": "code",
   "execution_count": 119,
   "metadata": {},
   "outputs": [],
   "source": [
    "# find the avg sales of a specific outlet type and the type of products sold.\n",
    "\n",
    "def find_avg_sales_food(outlet_type, type_food):\n",
    "    \n",
    "    df_type_typeFood = df_s.groupby(['Outlet_Type', 'Item_Combined_Type'])['Item_Outlet_Sales'].sum()\n",
    "    \n",
    "    size = ((df_s['Outlet_Type'] == outlet_type) & (df_s['Item_Combined_Type'] == type_food)).sum()\n",
    "    avg_sales = df_type_typeFood[outlet_type][type_food]/size\n",
    "    return avg_sales"
   ]
  },
  {
   "cell_type": "code",
   "execution_count": 120,
   "metadata": {},
   "outputs": [
    {
     "name": "stdout",
     "output_type": "stream",
     "text": [
      "Outlet_Type        Item_Combined_Type\n",
      "Grocery Store      Drinks                3.052693e+04\n",
      "                   Food                  2.613858e+05\n",
      "                   Non_Consumables       7.600107e+04\n",
      "Supermarket Type1  Drinks                1.144867e+06\n",
      "                   Food                  9.382348e+06\n",
      "                   Non_Consumables       2.390127e+06\n",
      "Supermarket Type2  Drinks                1.602388e+05\n",
      "                   Food                  1.349399e+06\n",
      "                   Non_Consumables       3.421852e+05\n",
      "Supermarket Type3  Drinks                2.602366e+05\n",
      "                   Food                  2.566334e+06\n",
      "                   Non_Consumables       6.178977e+05\n",
      "Name: Item_Outlet_Sales, dtype: float64\n"
     ]
    },
    {
     "data": {
      "text/plain": [
       "Text(0, 0.5, 'Average Sales ($)')"
      ]
     },
     "execution_count": 120,
     "metadata": {},
     "output_type": "execute_result"
    },
    {
     "data": {
      "image/png": "[encoded data removed]",
      "text/plain": [
       "<Figure size 432x288 with 1 Axes>"
      ]
     },
     "metadata": {
      "needs_background": "light"
     },
     "output_type": "display_data"
    }
   ],
   "source": [
    "df_type_typeFood = df_s.groupby(['Outlet_Type', 'Item_Combined_Type'])['Item_Outlet_Sales'].sum()\n",
    "print(df_type_typeFood)\n",
    "\n",
    "# from df_type_venue, we can see the various combinations of outlet type and tiers.\n",
    "\n",
    "food = pd.Series({'Grocery Store': find_avg_sales_food('Grocery Store', 'Food'),\n",
    "                  'Supermarket Type1': find_avg_sales_food('Supermarket Type1', 'Food'),\n",
    "                  'Supermarket Type2': find_avg_sales_food('Supermarket Type2', 'Food'),\n",
    "                  'Supermarket Type3': find_avg_sales_food('Supermarket Type3', 'Food')})\n",
    "drink = pd.Series({'Grocery Store': find_avg_sales_food('Supermarket Type1', 'Drinks'),\n",
    "                   'Supermarket Type1': find_avg_sales_food('Supermarket Type1', 'Drinks'),\n",
    "                   'Supermarket Type2': find_avg_sales_food('Supermarket Type2', 'Drinks'),\n",
    "                   'Supermarket Type3': find_avg_sales_food('Supermarket Type3', 'Drinks')})\n",
    "non_con = pd.Series({'Grocery Store': find_avg_sales_food('Grocery Store', 'Non_Consumables'),\n",
    "                  'Supermarket Type1': find_avg_sales_food('Supermarket Type1', 'Non_Consumables'),\n",
    "                  'Supermarket Type2': find_avg_sales_food('Supermarket Type2', 'Non_Consumables'),\n",
    "                  'Supermarket Type3': find_avg_sales_food('Supermarket Type3', 'Non_Consumables')})\n",
    "# print(tier1)\n",
    "# print(tier2)\n",
    "# print(tier3)\n",
    "\n",
    "avg_df =pd.DataFrame({'Food': food,\n",
    "                      'Drinks': drink,\n",
    "                      'Non-consumables': non_con})\n",
    "\n",
    "avg_df.plot.bar()\n",
    "plt.xlabel(\"Outlet Types\")\n",
    "plt.ylabel(\"Average Sales ($)\")"
   ]
  },
  {
   "cell_type": "markdown",
   "metadata": {},
   "source": [
    "From the graph above, we can see that sales of drinks are the highest in grocery stores. However, the trend in the other types of outlets are generally the same - with highest sales in food, followed by non-consumables and finally drinks, though they don't differ too drastically in sales.\n",
    "\n",
    "Since the sales of drinks performed consistently in all types of outlets, we will now analyse the type of drinks sold to see if any drinks are more popular."
   ]
  },
  {
   "cell_type": "code",
   "execution_count": 121,
   "metadata": {},
   "outputs": [
    {
     "data": {
      "text/plain": [
       "Text(0, 0.5, 'Proportion')"
      ]
     },
     "execution_count": 121,
     "metadata": {},
     "output_type": "execute_result"
    },
    {
     "data": {
      "image/png": "[encoded data removed]",
      "text/plain": [
       "<Figure size 432x288 with 1 Axes>"
      ]
     },
     "metadata": {
      "needs_background": "light"
     },
     "output_type": "display_data"
    }
   ],
   "source": [
    "drinks = df_s[df_s['Item_Combined_Type'] == 'Drinks']\n",
    "drinks_df = pd.DataFrame(data=drinks)\n",
    "# print(drinks_df.head())\n",
    "drinkstypes = drinks_df.groupby('Item_Type').size()\n",
    "prop = drinkstypes.div(drinkstypes.sum())\n",
    "\n",
    "prop.plot.bar()\n",
    "plt.xlabel(\"Type of Drinks\")\n",
    "plt.ylabel(\"Proportion\")"
   ]
  },
  {
   "cell_type": "markdown",
   "metadata": {},
   "source": [
    "Soft drinks take up the largest proportion of the sales in drinks.\n",
    "\n",
    "Let's try to analyse whether there are certain type of soft drinks that sells better."
   ]
  },
  {
   "cell_type": "code",
   "execution_count": 122,
   "metadata": {},
   "outputs": [
    {
     "data": {
      "text/plain": [
       "Text(0, 0.5, 'Frequency')"
      ]
     },
     "execution_count": 122,
     "metadata": {},
     "output_type": "execute_result"
    },
    {
     "data": {
      "image/png": "[encoded data removed]",
      "text/plain": [
       "<Figure size 432x288 with 1 Axes>"
      ]
     },
     "metadata": {
      "needs_background": "light"
     },
     "output_type": "display_data"
    }
   ],
   "source": [
    "drinks_fats = drinks_df.groupby('Item_Fat_Content').count()\n",
    "# print(drinks_fats)\n",
    "drinks_fats['Item_Outlet_Sales'].plot.bar()\n",
    "\n",
    "plt.xlabel(\"Fats Content\")\n",
    "plt.ylabel(\"Frequency\")"
   ]
  },
  {
   "cell_type": "markdown",
   "metadata": {},
   "source": [
    "Hence, from this graph, we can see that consumers are likely to be more health-conscious, as the sales of low-fat drinks are significantly higher than regular-fat drinks. Hence, Prime Supermarket should take note of consumers' behaviour and sell more low-fat soft drinks.\n",
    "\n",
    "## 2.4 Item Visibility VS Total Sales\n",
    "\n",
    "We will now try to analyse the factor of item visibility.\n",
    "\n",
    "Intuitively, we shall see if item visibility (which is expressed as an arbitrary percentage) is related to item weight."
   ]
  },
  {
   "cell_type": "code",
   "execution_count": 123,
   "metadata": {},
   "outputs": [
    {
     "data": {
      "text/plain": [
       "<matplotlib.axes._subplots.AxesSubplot at 0x1661f6a4e48>"
      ]
     },
     "execution_count": 123,
     "metadata": {},
     "output_type": "execute_result"
    },
    {
     "data": {
      "image/png": "[encoded data removed]",
      "text/plain": [
       "<Figure size 432x288 with 1 Axes>"
      ]
     },
     "metadata": {
      "needs_background": "light"
     },
     "output_type": "display_data"
    }
   ],
   "source": [
    "df_s.plot.scatter('Item_Weight', 'Item_Visibility')"
   ]
  },
  {
   "cell_type": "markdown",
   "metadata": {},
   "source": [
    "From the above scatter plot, we see that there is no clear relationship between item visibility and item weight. Hence, we shall look to see the relationship between item visibility and sales in the different outlet types."
   ]
  },
  {
   "cell_type": "code",
   "execution_count": 124,
   "metadata": {},
   "outputs": [
    {
     "name": "stdout",
     "output_type": "stream",
     "text": [
      "4\n"
     ]
    },
    {
     "data": {
      "text/plain": [
       "Text(0, 0.5, 'Total Sales ($)')"
      ]
     },
     "execution_count": 124,
     "metadata": {},
     "output_type": "execute_result"
    },
    {
     "data": {
      "image/png": "[encoded data removed]",
      "text/plain": [
       "<Figure size 432x288 with 1 Axes>"
      ]
     },
     "metadata": {
      "needs_background": "light"
     },
     "output_type": "display_data"
    }
   ],
   "source": [
    "# df_s.plot.scatter('Item_Visibility', 'Item_Outlet_Sales')\n",
    "\n",
    "outlet_types = df_s['Outlet_Type'].unique()\n",
    "print(len(outlet_types))\n",
    "\n",
    "groc_type = df_s.loc[:][df_s['Outlet_Type'] == outlet_types[0]]\n",
    "type1 = df_s.loc[:][df_s['Outlet_Type'] == outlet_types[1]]\n",
    "type2 = df_s.loc[:][df_s['Outlet_Type'] == outlet_types[2]]\n",
    "type3 = df_s.loc[:][df_s['Outlet_Type'] == outlet_types[3]]\n",
    "\n",
    "plt.scatter(groc_type['Item_Visibility'], groc_type['Item_Outlet_Sales'], alpha=0.3, label=outlet_types[0])\n",
    "plt.scatter(type1['Item_Visibility'], type1['Item_Outlet_Sales'], alpha=0.3, label=outlet_types[1])\n",
    "plt.scatter(type2['Item_Visibility'], type2['Item_Outlet_Sales'], alpha=0.3, label=outlet_types[2])\n",
    "plt.scatter(type3['Item_Visibility'], type3['Item_Outlet_Sales'], alpha=0.3, label=outlet_types[3])\n",
    "\n",
    "plt.legend()\n",
    "plt.xlabel('Item Visibility')\n",
    "plt.ylabel('Total Sales ($)')"
   ]
  },
  {
   "cell_type": "markdown",
   "metadata": {},
   "source": [
    "From the scatter plot of the item visibility against the total sales of different outlet type, we can see that again, the grocery stores fill the bottom of all total sales. Similar to the previous section, we cannot clearly discern between the sales of the 3 different types of supermarkets. Another intersting observation, however, is that items with higher visibilities do not necessarily translate to higher sales. In fact, the items that fetched the highest total sales mostly had an item visibility of less than 10%. This could be perhaps due to the nature of a supermarket, where people already know what they want to buy, and thus the item visibility does not really affect sales."
   ]
  },
  {
   "cell_type": "markdown",
   "metadata": {},
   "source": [
    "In conclusion, from our various data visualisations, we have seen certain interesting relationships between the variables which will help to shape our regression model in the following segment. "
   ]
  },
  {
   "cell_type": "markdown",
   "metadata": {},
   "source": [
    "# 3. Regression Model Construction & Evaluation "
   ]
  },
  {
   "cell_type": "markdown",
   "metadata": {},
   "source": [
    "For this segment, we are interested in finding out if any of the variables listed above is indeed correlated with the outlet sales . We determine this by creating a null hypothesis and an alternative hypothesis, $H_{0}$ and $H_{1}$ respectively. The hypothesis test is set up as follows:\n",
    "\n",
    "Null Hypothesis : All variables are insignificant in determining Y (item outlet sales)\n",
    "Alternative Hypothesis: Some variables are significant in determining Y (item outlet sales)\n",
    "\n",
    "\n",
    "<center>$H_{0}$ :  β = 0  </center>\n",
    "\n",
    "<center>$H_{1}$ :  β ≠ 0 </center>\n",
    "<center>where  β  is the coefficient of all the variables discussed above.</center>"
   ]
  },
  {
   "cell_type": "markdown",
   "metadata": {},
   "source": [
    "# 3.1 Using Product Variables\n",
    "We first start with the Baseline Model for regression, considering only the variables that affect the product and not the outlets."
   ]
  },
  {
   "cell_type": "code",
   "execution_count": 125,
   "metadata": {},
   "outputs": [
    {
     "name": "stdout",
     "output_type": "stream",
     "text": [
      "                            OLS Regression Results                            \n",
      "==============================================================================\n",
      "Dep. Variable:      Item_Outlet_Sales   R-squared:                       0.338\n",
      "Model:                            OLS   Adj. R-squared:                  0.338\n",
      "Method:                 Least Squares   F-statistic:                     724.9\n",
      "Date:                Fri, 19 Apr 2019   Prob (F-statistic):               0.00\n",
      "Time:                        15:37:32   Log-Likelihood:                -73729.\n",
      "No. Observations:                8519   AIC:                         1.475e+05\n",
      "Df Residuals:                    8512   BIC:                         1.475e+05\n",
      "Df Model:                           6                                         \n",
      "Covariance Type:            nonrobust                                         \n",
      "===========================================================================================================================================\n",
      "                                                                              coef    std err          t      P>|t|      [0.025      0.975]\n",
      "-------------------------------------------------------------------------------------------------------------------------------------------\n",
      "Intercept                                                                 223.1375     67.852      3.289      0.001      90.132     356.143\n",
      "Item_Fat_Content[T.Low Fat]                                                18.7887     25.709      0.731      0.465     -31.607      69.185\n",
      "Item_Fat_Content[T.Regular]                                                67.6359     30.444      2.222      0.026       7.957     127.314\n",
      "C(Item_Combined_Type, Treatment(reference='Non_Consumables'))[T.Drinks]    21.3461     42.464      0.503      0.615     -61.893     104.586\n",
      "C(Item_Combined_Type, Treatment(reference='Non_Consumables'))[T.Food]      65.0785     25.353      2.567      0.010      15.381     114.776\n",
      "Item_Weight                                                                -1.0606      3.249     -0.326      0.744      -7.429       5.308\n",
      "Item_Visibility                                                         -4231.0642    300.237    -14.092      0.000   -4819.602   -3642.527\n",
      "Item_MRP                                                                   15.5289      0.242     64.170      0.000      15.055      16.003\n",
      "==============================================================================\n",
      "Omnibus:                      815.691   Durbin-Watson:                   1.991\n",
      "Prob(Omnibus):                  0.000   Jarque-Bera (JB):             1718.054\n",
      "Skew:                           0.614   Prob(JB):                         0.00\n",
      "Kurtosis:                       4.825   Cond. No.                     4.68e+17\n",
      "==============================================================================\n",
      "\n",
      "Warnings:\n",
      "[1] Standard Errors assume that the covariance matrix of the errors is correctly specified.\n",
      "[2] The smallest eigenvalue is 9.3e-28. This might indicate that there are\n",
      "strong multicollinearity problems or that the design matrix is singular.\n"
     ]
    }
   ],
   "source": [
    "products = smf.ols(\"Item_Outlet_Sales ~ Item_Weight + Item_Fat_Content + Item_Visibility + \\\n",
    "C(Item_Combined_Type, Treatment(reference = 'Non_Consumables')) + Item_MRP\", data= df_s).fit()\n",
    "print(products.summary())"
   ]
  },
  {
   "cell_type": "markdown",
   "metadata": {},
   "source": [
    "From this simple regression model, we obtain an $R^2$ and adjusted $R^2$ value of 0.338, which indicates that our variables have some impact on the sales of an item in an outlet, even before doing any adjustments.\n",
    "\n",
    "Also, the probability of the F-statistic is lower than 5% which indicates that at least one of the variables can be useful in predicting sales of an item in an outlet. \n",
    "\n",
    "Upon further examination, we see that the item weights do not really affect the sales of an item in an outlet. \n",
    "\n",
    "Also, regular fat items and food items are statistically significant in affecting sales of an item in an outlet, while low-fat items and drinks are not. "
   ]
  },
  {
   "cell_type": "markdown",
   "metadata": {},
   "source": [
    "# 3.2 Using Outlet Variables\n",
    "Next, let us examine how outlet variables can affect item sales."
   ]
  },
  {
   "cell_type": "code",
   "execution_count": 126,
   "metadata": {},
   "outputs": [
    {
     "name": "stdout",
     "output_type": "stream",
     "text": [
      "                            OLS Regression Results                            \n",
      "==============================================================================\n",
      "Dep. Variable:      Item_Outlet_Sales   R-squared:                       0.240\n",
      "Model:                            OLS   Adj. R-squared:                  0.239\n",
      "Method:                 Least Squares   F-statistic:                     335.6\n",
      "Date:                Fri, 19 Apr 2019   Prob (F-statistic):               0.00\n",
      "Time:                        15:37:32   Log-Likelihood:                -74320.\n",
      "No. Observations:                8519   AIC:                         1.487e+05\n",
      "Df Residuals:                    8510   BIC:                         1.487e+05\n",
      "Df Model:                           8                                         \n",
      "Covariance Type:            nonrobust                                         \n",
      "====================================================================================================\n",
      "                                       coef    std err          t      P>|t|      [0.025      0.975]\n",
      "----------------------------------------------------------------------------------------------------\n",
      "Intercept                         1725.2827    772.148      2.234      0.025     211.684    3238.881\n",
      "Outlet_Size[T.Medium]             -571.1220    361.744     -1.579      0.114   -1280.227     137.983\n",
      "Outlet_Size[T.Small]              -592.1055    335.781     -1.763      0.078   -1250.317      66.106\n",
      "Outlet_Location_Type[T.Tier 2]    -135.3782    115.389     -1.173      0.241    -361.569      90.813\n",
      "Outlet_Location_Type[T.Tier 3]    -323.3200    200.194     -1.615      0.106    -715.748      69.108\n",
      "Outlet_Type[T.Supermarket Type1]  1639.9360    183.716      8.926      0.000    1279.808    2000.064\n",
      "Outlet_Type[T.Supermarket Type2]  1362.7657    162.559      8.383      0.000    1044.111    1681.420\n",
      "Outlet_Type[T.Supermarket Type3]  3657.3712    231.473     15.800      0.000    3203.629    4111.114\n",
      "Outlet_Years                       -24.7634     13.735     -1.803      0.071     -51.687       2.160\n",
      "==============================================================================\n",
      "Omnibus:                     1489.852   Durbin-Watson:                   2.005\n",
      "Prob(Omnibus):                  0.000   Jarque-Bera (JB):             2834.042\n",
      "Skew:                           1.081   Prob(JB):                         0.00\n",
      "Kurtosis:                       4.820   Cond. No.                     1.28e+03\n",
      "==============================================================================\n",
      "\n",
      "Warnings:\n",
      "[1] Standard Errors assume that the covariance matrix of the errors is correctly specified.\n",
      "[2] The condition number is large, 1.28e+03. This might indicate that there are\n",
      "strong multicollinearity or other numerical problems.\n"
     ]
    }
   ],
   "source": [
    "outlet = smf.ols(\"Item_Outlet_Sales ~ Outlet_Size + Outlet_Location_Type + Outlet_Type + Outlet_Years\", data= df_s).fit()\n",
    "print(outlet.summary())"
   ]
  },
  {
   "cell_type": "markdown",
   "metadata": {},
   "source": [
    "As we can see, the $R^2$ and adjusted $R^2$ value of this model is lower, at 0.240 and 0.239 respectively. The AIC and BIC is also slightly heavier than the first model, which implies that this model is slightly worse at predicting item outlet sales.\n",
    "\n",
    "Again, the probability of the F-statistic is < 0.05, telling us that at least 1 of the variables is effective in predicting the item outlet sales of Prime Supermarket. Upon further analysis, we see that only the outlet type seems to affect the item outlet sales. "
   ]
  },
  {
   "cell_type": "markdown",
   "metadata": {},
   "source": [
    "# 3.3 Using Selected Variables\n",
    "Next, we take a combined model, using only those variables which have a p-value of < 0.05 to obtain another linear regression model. "
   ]
  },
  {
   "cell_type": "code",
   "execution_count": 127,
   "metadata": {},
   "outputs": [
    {
     "name": "stdout",
     "output_type": "stream",
     "text": [
      "                            OLS Regression Results                            \n",
      "==============================================================================\n",
      "Dep. Variable:      Item_Outlet_Sales   R-squared:                       0.562\n",
      "Model:                            OLS   Adj. R-squared:                  0.562\n",
      "Method:                 Least Squares   F-statistic:                     1366.\n",
      "Date:                Fri, 19 Apr 2019   Prob (F-statistic):               0.00\n",
      "Time:                        15:37:32   Log-Likelihood:                -71969.\n",
      "No. Observations:                8519   AIC:                         1.440e+05\n",
      "Df Residuals:                    8510   BIC:                         1.440e+05\n",
      "Df Model:                           8                                         \n",
      "Covariance Type:            nonrobust                                         \n",
      "===========================================================================================================================================\n",
      "                                                                              coef    std err          t      P>|t|      [0.025      0.975]\n",
      "-------------------------------------------------------------------------------------------------------------------------------------------\n",
      "Intercept                                                               -1863.1647     56.899    -32.745      0.000   -1974.700   -1751.629\n",
      "Item_Fat_Content[T.Low Fat]                                                -0.3681     20.891     -0.018      0.986     -41.319      40.583\n",
      "Item_Fat_Content[T.Regular]                                                41.6838     24.723      1.686      0.092      -6.779      90.147\n",
      "C(Item_Combined_Type, Treatment(reference='Non_Consumables'))[T.Drinks]    12.4356     34.467      0.361      0.718     -55.128      80.000\n",
      "C(Item_Combined_Type, Treatment(reference='Non_Consumables'))[T.Food]      28.8801     20.629      1.400      0.162     -11.557      69.318\n",
      "Outlet_Type[T.Supermarket Type1]                                         1955.6242     39.071     50.053      0.000    1879.035    2032.214\n",
      "Outlet_Type[T.Supermarket Type2]                                         1627.6296     51.655     31.510      0.000    1526.373    1728.886\n",
      "Outlet_Type[T.Supermarket Type3]                                         3354.6906     51.760     64.812      0.000    3253.228    3456.153\n",
      "Item_Visibility                                                          -143.0349    254.740     -0.561      0.574    -642.387     356.317\n",
      "Item_MRP                                                                   15.5553      0.197     79.044      0.000      15.170      15.941\n",
      "==============================================================================\n",
      "Omnibus:                      960.779   Durbin-Watson:                   2.002\n",
      "Prob(Omnibus):                  0.000   Jarque-Bera (JB):             2293.624\n",
      "Skew:                           0.667   Prob(JB):                         0.00\n",
      "Kurtosis:                       5.164   Cond. No.                     5.44e+17\n",
      "==============================================================================\n",
      "\n",
      "Warnings:\n",
      "[1] Standard Errors assume that the covariance matrix of the errors is correctly specified.\n",
      "[2] The smallest eigenvalue is 6.84e-28. This might indicate that there are\n",
      "strong multicollinearity problems or that the design matrix is singular.\n"
     ]
    }
   ],
   "source": [
    "combined = smf.ols(\" Item_Outlet_Sales ~ Item_Fat_Content + Item_Visibility \\\n",
    "+ Item_MRP + C(Item_Combined_Type, Treatment(reference = 'Non_Consumables')) + Outlet_Type\", data= df_s).fit()\n",
    "print(combined.summary())"
   ]
  },
  {
   "cell_type": "markdown",
   "metadata": {},
   "source": [
    "We can immediately see that this model is much better than the previous 2 models, with a much higher $R^2$ and adjusted $R^2$ value as compared to the previous 2 models. The AIC & BIC of this model is also much lower than the previous 2 models.\n",
    "\n",
    "Once again, the probability of the F-statistic is < 0.05, and thus there is at least 1 variable that would affect item sales in the Prime Supermarket outlets.\n",
    "\n",
    "Also, from this model, we see that the previously statistically significant item fat content, item combined types and item visibility are no longer statistically significant in this regression model. Only the item's maxmimum retail price and outlet types are statistically significant in predicting item sales in the outlets."
   ]
  },
  {
   "cell_type": "markdown",
   "metadata": {},
   "source": [
    "# 3.4 Non-Linear Relationships\n",
    "Let us attempt to improve the model even further, by introducing nonlinearity to the model. As seen from above, the item outlet sales seems to follow an exponential distribution. Here, we can try to take log of the item outlet sales to see if this improves our linear regression model."
   ]
  },
  {
   "cell_type": "code",
   "execution_count": 128,
   "metadata": {},
   "outputs": [
    {
     "name": "stdout",
     "output_type": "stream",
     "text": [
      "                                OLS Regression Results                               \n",
      "=====================================================================================\n",
      "Dep. Variable:     np.log(Item_Outlet_Sales)   R-squared:                       0.720\n",
      "Model:                                   OLS   Adj. R-squared:                  0.719\n",
      "Method:                        Least Squares   F-statistic:                     2730.\n",
      "Date:                       Fri, 19 Apr 2019   Prob (F-statistic):               0.00\n",
      "Time:                               15:37:32   Log-Likelihood:                -6813.6\n",
      "No. Observations:                       8519   AIC:                         1.365e+04\n",
      "Df Residuals:                           8510   BIC:                         1.371e+04\n",
      "Df Model:                                  8                                         \n",
      "Covariance Type:                   nonrobust                                         \n",
      "===========================================================================================================================================\n",
      "                                                                              coef    std err          t      P>|t|      [0.025      0.975]\n",
      "-------------------------------------------------------------------------------------------------------------------------------------------\n",
      "Intercept                                                                   4.3782      0.027    161.357      0.000       4.325       4.431\n",
      "Item_Fat_Content[T.Low Fat]                                                -0.0078      0.010     -0.782      0.434      -0.027       0.012\n",
      "Item_Fat_Content[T.Regular]                                                 0.0070      0.012      0.592      0.554      -0.016       0.030\n",
      "C(Item_Combined_Type, Treatment(reference='Non_Consumables'))[T.Drinks]    -0.0074      0.016     -0.448      0.654      -0.040       0.025\n",
      "C(Item_Combined_Type, Treatment(reference='Non_Consumables'))[T.Food]       0.0065      0.010      0.666      0.506      -0.013       0.026\n",
      "Outlet_Type[T.Supermarket Type1]                                            1.9550      0.019    104.925      0.000       1.918       1.992\n",
      "Outlet_Type[T.Supermarket Type2]                                            1.7736      0.025     72.001      0.000       1.725       1.822\n",
      "Outlet_Type[T.Supermarket Type3]                                            2.4827      0.025    100.582      0.000       2.434       2.531\n",
      "Item_Visibility                                                             0.0118      0.121      0.097      0.923      -0.226       0.250\n",
      "Item_MRP                                                                    0.0083   9.38e-05     88.412      0.000       0.008       0.008\n",
      "==============================================================================\n",
      "Omnibus:                      831.089   Durbin-Watson:                   2.006\n",
      "Prob(Omnibus):                  0.000   Jarque-Bera (JB):             1168.510\n",
      "Skew:                          -0.776   Prob(JB):                    1.82e-254\n",
      "Kurtosis:                       3.940   Cond. No.                     5.44e+17\n",
      "==============================================================================\n",
      "\n",
      "Warnings:\n",
      "[1] Standard Errors assume that the covariance matrix of the errors is correctly specified.\n",
      "[2] The smallest eigenvalue is 6.84e-28. This might indicate that there are\n",
      "strong multicollinearity problems or that the design matrix is singular.\n"
     ]
    }
   ],
   "source": [
    "log = smf.ols(\" np.log(Item_Outlet_Sales) ~ Item_Fat_Content + Item_Visibility \\\n",
    "+ Item_MRP + C(Item_Combined_Type, Treatment(reference = 'Non_Consumables')) + Outlet_Type\", data= df_s).fit()\n",
    "print(log.summary())"
   ]
  },
  {
   "cell_type": "markdown",
   "metadata": {},
   "source": [
    "We notice a huge jump in the $R^2$ and adjusted $R^2$ value for the model, at 0.720 and 0.719 respectively. Also, the AIC and BIC values are much lower than before. This is a large improvement from the previous model, and it is clear that we should use this model to proceed further with our analysis."
   ]
  },
  {
   "cell_type": "markdown",
   "metadata": {},
   "source": [
    "# 3.5 Modelling for Interactivity\n",
    "Given the many variables in the data, it is likely that there are some interactivity between these differing variable types. Here we explore 2 possible interactivity. How item weight may affect the item visibility, and how the outlet sizes the outlets affect the outlet types.\n",
    "\n",
    "# 3.5.1 Item Weight & Item Visibility\n",
    "First, let us model for the interactivity between item weight and item visibility."
   ]
  },
  {
   "cell_type": "code",
   "execution_count": 129,
   "metadata": {},
   "outputs": [
    {
     "name": "stdout",
     "output_type": "stream",
     "text": [
      "                                OLS Regression Results                               \n",
      "=====================================================================================\n",
      "Dep. Variable:     np.log(Item_Outlet_Sales)   R-squared:                       0.720\n",
      "Model:                                   OLS   Adj. R-squared:                  0.719\n",
      "Method:                        Least Squares   F-statistic:                     2184.\n",
      "Date:                       Fri, 19 Apr 2019   Prob (F-statistic):               0.00\n",
      "Time:                               15:37:32   Log-Likelihood:                -6813.5\n",
      "No. Observations:                       8519   AIC:                         1.365e+04\n",
      "Df Residuals:                           8508   BIC:                         1.373e+04\n",
      "Df Model:                                 10                                         \n",
      "Covariance Type:                   nonrobust                                         \n",
      "===========================================================================================================================================\n",
      "                                                                              coef    std err          t      P>|t|      [0.025      0.975]\n",
      "-------------------------------------------------------------------------------------------------------------------------------------------\n",
      "Intercept                                                                   4.3781      0.040    110.725      0.000       4.301       4.456\n",
      "Item_Fat_Content[T.Low Fat]                                                -0.0079      0.010     -0.793      0.428      -0.027       0.012\n",
      "Item_Fat_Content[T.Regular]                                                 0.0067      0.012      0.568      0.570      -0.016       0.030\n",
      "C(Item_Combined_Type, Treatment(reference='Non_Consumables'))[T.Drinks]    -0.0078      0.016     -0.473      0.636      -0.040       0.025\n",
      "C(Item_Combined_Type, Treatment(reference='Non_Consumables'))[T.Food]       0.0066      0.010      0.669      0.503      -0.013       0.026\n",
      "Outlet_Type[T.Supermarket Type1]                                            1.9549      0.019    104.901      0.000       1.918       1.991\n",
      "Outlet_Type[T.Supermarket Type2]                                            1.7735      0.025     71.987      0.000       1.725       1.822\n",
      "Outlet_Type[T.Supermarket Type3]                                            2.4826      0.025    100.568      0.000       2.434       2.531\n",
      "Item_Visibility                                                             0.0860      0.344      0.250      0.803      -0.589       0.761\n",
      "Item_Weight                                                              1.915e-05      0.002      0.009      0.993      -0.004       0.004\n",
      "Item_Visibility:Item_Weight                                                -0.0059      0.025     -0.233      0.816      -0.055       0.043\n",
      "Item_MRP                                                                    0.0083   9.39e-05     88.378      0.000       0.008       0.008\n",
      "==============================================================================\n",
      "Omnibus:                      831.263   Durbin-Watson:                   2.005\n",
      "Prob(Omnibus):                  0.000   Jarque-Bera (JB):             1168.780\n",
      "Skew:                          -0.776   Prob(JB):                    1.59e-254\n",
      "Kurtosis:                       3.940   Cond. No.                     4.65e+17\n",
      "==============================================================================\n",
      "\n",
      "Warnings:\n",
      "[1] Standard Errors assume that the covariance matrix of the errors is correctly specified.\n",
      "[2] The smallest eigenvalue is 9.42e-28. This might indicate that there are\n",
      "strong multicollinearity problems or that the design matrix is singular.\n"
     ]
    }
   ],
   "source": [
    "weight = smf.ols(\" np.log(Item_Outlet_Sales) ~ Item_Fat_Content + Item_Visibility * Item_Weight + Item_MRP \\\n",
    "+ C(Item_Combined_Type, Treatment(reference = 'Non_Consumables')) + Outlet_Type\", data= df_s).fit()\n",
    "print(weight.summary())"
   ]
  },
  {
   "cell_type": "markdown",
   "metadata": {},
   "source": [
    "From this, we can see that our hypothesis of a relationship between item visibility and item weight is wrong, as the relationship is not statistically significant. (Item_Visibility:Item_Weight has a p-value of 0.816, statistically insiginificant)."
   ]
  },
  {
   "cell_type": "markdown",
   "metadata": {},
   "source": [
    "# 3.5.2 Outlet Size & Outlet Type\n",
    "\n",
    "Although previously, we saw that outlet sizes are not statistically significant to predict item sales in an outlet, there is a high likelihood that outlet types also depends on outlet sizes. \n",
    "\n",
    "Thus, we attempt to model for this interactivity to see if we can obtain a better regression model to predict sales of items in Prime Supermarket outlets.\n",
    "\n",
    "First, let us look at the average outlet sales of each outlet type."
   ]
  },
  {
   "cell_type": "code",
   "execution_count": 130,
   "metadata": {},
   "outputs": [
    {
     "data": {
      "text/plain": [
       "Outlet_Type\n",
       "Grocery Store         340.031198\n",
       "Supermarket Type1    2316.181148\n",
       "Supermarket Type2    1995.498739\n",
       "Supermarket Type3    3695.781505\n",
       "Name: Item_Outlet_Sales, dtype: float64"
      ]
     },
     "execution_count": 130,
     "metadata": {},
     "output_type": "execute_result"
    }
   ],
   "source": [
    "types = df_s.groupby([\"Outlet_Type\"])[\"Item_Outlet_Sales\"].mean()\n",
    "types.head()"
   ]
  },
  {
   "cell_type": "markdown",
   "metadata": {},
   "source": [
    "From the above, we see that while there is no clear difference in the sales of Supermarket 1 & 2, the sales of grocery stores are much lower than supermarkets. Next, the Supermarket Type 3 has the highest sales of all outlet types. This could perhaps mean that Supermarket Type 3 is equivalent to that of a hypermart."
   ]
  },
  {
   "cell_type": "code",
   "execution_count": 131,
   "metadata": {
    "scrolled": true
   },
   "outputs": [
    {
     "name": "stdout",
     "output_type": "stream",
     "text": [
      "                                OLS Regression Results                               \n",
      "=====================================================================================\n",
      "Dep. Variable:     np.log(Item_Outlet_Sales)   R-squared:                       0.720\n",
      "Model:                                   OLS   Adj. R-squared:                  0.720\n",
      "Method:                        Least Squares   F-statistic:                     2186.\n",
      "Date:                       Fri, 19 Apr 2019   Prob (F-statistic):               0.00\n",
      "Time:                               15:37:33   Log-Likelihood:                -6810.2\n",
      "No. Observations:                       8519   AIC:                         1.364e+04\n",
      "Df Residuals:                           8508   BIC:                         1.372e+04\n",
      "Df Model:                                 10                                         \n",
      "Covariance Type:                   nonrobust                                         \n",
      "===========================================================================================================================================\n",
      "                                                                              coef    std err          t      P>|t|      [0.025      0.975]\n",
      "-------------------------------------------------------------------------------------------------------------------------------------------\n",
      "Intercept                                                                   4.1433      0.020    209.289      0.000       4.104       4.182\n",
      "Item_Fat_Content[T.Low Fat]                                                -0.0080      0.010     -0.802      0.423      -0.028       0.012\n",
      "Item_Fat_Content[T.Regular]                                                 0.0067      0.012      0.571      0.568      -0.016       0.030\n",
      "C(Item_Combined_Type, Treatment(reference='Non_Consumables'))[T.Drinks]    -0.0077      0.016     -0.468      0.640      -0.040       0.025\n",
      "C(Item_Combined_Type, Treatment(reference='Non_Consumables'))[T.Food]       0.0064      0.010      0.654      0.513      -0.013       0.026\n",
      "Outlet_Size[T.Medium]                                                       0.8091      0.012     68.871      0.000       0.786       0.832\n",
      "Outlet_Size[T.Small]                                                        0.2353      0.014     16.293      0.000       0.207       0.264\n",
      "Outlet_Type[T.Supermarket Type1]                                            2.1551      0.012    175.210      0.000       2.131       2.179\n",
      "Outlet_Type[T.Supermarket Type2]                                            0.5999      0.008     73.927      0.000       0.584       0.616\n",
      "Outlet_Type[T.Supermarket Type3]                                            0.9544      0.008    117.848      0.000       0.939       0.970\n",
      "Outlet_Size[T.Medium]:Outlet_Type[T.Supermarket Type1]                     -0.7451      0.015    -49.456      0.000      -0.775      -0.716\n",
      "Outlet_Size[T.Small]:Outlet_Type[T.Supermarket Type1]                      -0.1986      0.016    -12.510      0.000      -0.230      -0.167\n",
      "Outlet_Size[T.Medium]:Outlet_Type[T.Supermarket Type2]                      0.5999      0.008     73.927      0.000       0.584       0.616\n",
      "Outlet_Size[T.Small]:Outlet_Type[T.Supermarket Type2]                            0          0        nan        nan           0           0\n",
      "Outlet_Size[T.Medium]:Outlet_Type[T.Supermarket Type3]                      0.9544      0.008    117.848      0.000       0.939       0.970\n",
      "Outlet_Size[T.Small]:Outlet_Type[T.Supermarket Type3]                            0          0        nan        nan           0           0\n",
      "Item_Visibility                                                             0.0099      0.121      0.081      0.935      -0.228       0.248\n",
      "Item_MRP                                                                    0.0083   9.38e-05     88.445      0.000       0.008       0.008\n",
      "==============================================================================\n",
      "Omnibus:                      823.308   Durbin-Watson:                   2.006\n",
      "Prob(Omnibus):                  0.000   Jarque-Bera (JB):             1153.017\n",
      "Skew:                          -0.772   Prob(JB):                    4.22e-251\n",
      "Kurtosis:                       3.929   Cond. No.                     4.67e+36\n",
      "==============================================================================\n",
      "\n",
      "Warnings:\n",
      "[1] Standard Errors assume that the covariance matrix of the errors is correctly specified.\n",
      "[2] The smallest eigenvalue is 9.28e-66. This might indicate that there are\n",
      "strong multicollinearity problems or that the design matrix is singular.\n"
     ]
    },
    {
     "name": "stderr",
     "output_type": "stream",
     "text": [
      "C:\\Users\\Yong Han Ching\\Anaconda3\\lib\\site-packages\\statsmodels\\base\\model.py:1100: RuntimeWarning: invalid value encountered in true_divide\n",
      "  return self.params / self.bse\n",
      "C:\\Users\\Yong Han Ching\\Anaconda3\\lib\\site-packages\\scipy\\stats\\_distn_infrastructure.py:879: RuntimeWarning: invalid value encountered in greater\n",
      "  return (self.a < x) & (x < self.b)\n",
      "C:\\Users\\Yong Han Ching\\Anaconda3\\lib\\site-packages\\scipy\\stats\\_distn_infrastructure.py:879: RuntimeWarning: invalid value encountered in less\n",
      "  return (self.a < x) & (x < self.b)\n",
      "C:\\Users\\Yong Han Ching\\Anaconda3\\lib\\site-packages\\scipy\\stats\\_distn_infrastructure.py:1821: RuntimeWarning: invalid value encountered in less_equal\n",
      "  cond2 = cond0 & (x <= self.a)\n"
     ]
    }
   ],
   "source": [
    "size = smf.ols(\" np.log(Item_Outlet_Sales) ~ Item_Fat_Content + Item_Visibility + Item_MRP \\\n",
    "+ C(Item_Combined_Type, Treatment(reference = 'Non_Consumables')) + Outlet_Size * Outlet_Type \", data= df_s).fit()\n",
    "print(size.summary())"
   ]
  },
  {
   "cell_type": "markdown",
   "metadata": {},
   "source": [
    "Now at a first glance, this regression model provides us with the same $R^2$, adjusted $R^2$ value and probability of the F-statistic as the previous model.\n",
    "\n",
    "However, our AIC and BIC has decreased slightly, by 1 point, which indicates that this is a slightly better model to use to predict item outlet sales. \n",
    "\n",
    "Upon further analysis, this model now tells us that outlet size can be statistically significant in determining the item sales in outlets, where previously it was not.\n",
    "\n",
    "Also, we can see that there are clear interactions between certain outlet sizes and outlet types. There are no Small Supermarkets of type 2 and type 3, as previously hypothesized that Type 3 supermarkets are larger. The medium sized type 2 supermarkets also have no statistical significance in affecting item sales of the different outlets."
   ]
  },
  {
   "cell_type": "markdown",
   "metadata": {},
   "source": [
    "# 3.6 Conclusion on Regression\n",
    "We have decided to use the above model as the final model for predicting item sales in outlets. \n",
    "\n",
    "From the regression model, we see that out of all the variables that could affect item sales in outlets, the maximum retail price of an item is likely to be the most significant in affecting item sales. Next, outlet type and size is also likely to play a huge part in affecting item sales, compared to other factors. \n",
    "\n",
    "This is in line with what one may expect, as ultimately, the dollar sales of an item is directly correlated to the price of the item. Similarly, supermarkets that are larger, and of a better \"type\", are likely to offer a wider range of products, and thus have higher sales of items in those outlets. \n",
    "\n",
    "Interestingly, there seems to be an exponential correlation between these variables with the item outlet sales, as the logarithmic model has a higher $R^2$ value, and lower AIC and BIC values than the other models.\n",
    "\n",
    "Thus, the null hypothesis is rejected for the Item Maximum Retail Price, as well as the Outlet Types & Sizes for this regression model. "
   ]
  }
 ],
 "metadata": {
  "kernelspec": {
   "display_name": "Python 3",
   "language": "python",
   "name": "python3"
  },
  "language_info": {
   "codemirror_mode": {
    "name": "ipython",
    "version": 3
   },
   "file_extension": ".py",
   "mimetype": "text/x-python",
   "name": "python",
   "nbconvert_exporter": "python",
   "pygments_lexer": "ipython3",
   "version": "3.7.1"
  }
 },
 "nbformat": 4,
 "nbformat_minor": 2
}
